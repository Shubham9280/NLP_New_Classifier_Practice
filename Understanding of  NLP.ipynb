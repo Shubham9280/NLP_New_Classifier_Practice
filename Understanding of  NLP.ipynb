{
 "cells": [
  {
   "cell_type": "code",
   "execution_count": 1,
   "id": "52ce84dd-71d8-4a4f-a10f-678a32006a9d",
   "metadata": {},
   "outputs": [],
   "source": [
    "#pip install tensorflow"
   ]
  },
  {
   "cell_type": "code",
   "execution_count": 2,
   "id": "ec2a0881-2f92-4b00-8f32-b9895d696ab0",
   "metadata": {},
   "outputs": [],
   "source": [
    "#Word Encoding : Convert text into Number, Assign unique number to each unique word"
   ]
  },
  {
   "cell_type": "code",
   "execution_count": 3,
   "id": "3cbfa27d-8938-459e-ba7e-783181c71fd3",
   "metadata": {},
   "outputs": [],
   "source": [
    "import tensorflow as tf\n",
    "from tensorflow import keras\n",
    "from tensorflow.keras.preprocessing.text import Tokenizer"
   ]
  },
  {
   "cell_type": "code",
   "execution_count": 4,
   "id": "64f6e51a-0f58-4602-8903-dac33a6f43fd",
   "metadata": {},
   "outputs": [],
   "source": [
    "sample_stentence=[\"It is a sunny day\",\n",
    "                  \"It is a Rainy Day\",\n",
    "                  \"It is Cloudy day\"]"
   ]
  },
  {
   "cell_type": "code",
   "execution_count": 5,
   "id": "790ef292-74eb-410c-926e-57492beee12c",
   "metadata": {},
   "outputs": [],
   "source": [
    "tokenizer=Tokenizer(num_words=100, # depends on the size of text data, If 100 will pick top 100 high prequent word and tokenize them\n",
    "                   )"
   ]
  },
  {
   "cell_type": "code",
   "execution_count": 6,
   "id": "251d7281-4cec-41b8-920e-b634b2d3c077",
   "metadata": {},
   "outputs": [],
   "source": [
    "tokenizer.fit_on_texts(sample_stentence)"
   ]
  },
  {
   "cell_type": "code",
   "execution_count": 7,
   "id": "130af07c-49f3-4a5a-a95c-97abbbeec954",
   "metadata": {},
   "outputs": [],
   "source": [
    "each_wrd_index=tokenizer.word_index"
   ]
  },
  {
   "cell_type": "code",
   "execution_count": 8,
   "id": "8f60d218-6a44-4774-9759-0e03e08af555",
   "metadata": {},
   "outputs": [
    {
     "name": "stdout",
     "output_type": "stream",
     "text": [
      "{'it': 1, 'is': 2, 'day': 3, 'a': 4, 'sunny': 5, 'rainy': 6, 'cloudy': 7}\n"
     ]
    }
   ],
   "source": [
    "print(each_wrd_index)"
   ]
  },
  {
   "cell_type": "markdown",
   "id": "7bcc2a8c-d75f-4782-9bf2-c13070754b81",
   "metadata": {},
   "source": [
    "Create Sequence"
   ]
  },
  {
   "cell_type": "code",
   "execution_count": 9,
   "id": "1f8d41ef-7343-4eca-bf3e-3a0f394c89dc",
   "metadata": {},
   "outputs": [],
   "source": [
    "#Convert sentences into number\n",
    "sequences=tokenizer.texts_to_sequences(sample_stentence)\n"
   ]
  },
  {
   "cell_type": "code",
   "execution_count": 10,
   "id": "7d6153cf-86bc-45b7-9846-d252c70de274",
   "metadata": {},
   "outputs": [
    {
     "name": "stdout",
     "output_type": "stream",
     "text": [
      "{'it': 1, 'is': 2, 'day': 3, 'a': 4, 'sunny': 5, 'rainy': 6, 'cloudy': 7}\n",
      "['It is a sunny day', 'It is a Rainy Day', 'It is Cloudy day']\n",
      "[[1, 2, 4, 5, 3], [1, 2, 4, 6, 3], [1, 2, 7, 3]]\n"
     ]
    }
   ],
   "source": [
    "print(each_wrd_index)\n",
    "print(sample_stentence)\n",
    "print(sequences)"
   ]
  },
  {
   "cell_type": "markdown",
   "id": "db0ce38f-a8cd-40c3-b8be-852f2affb2cc",
   "metadata": {},
   "source": [
    "Tokenizing New data using Same Tokenizer"
   ]
  },
  {
   "cell_type": "code",
   "execution_count": 11,
   "id": "e17d7120-4e01-4a9d-ba3e-fe1b1a454f44",
   "metadata": {},
   "outputs": [],
   "source": [
    "new_sentences=[\"will be raining today\",\"It is a pleaant day\"]"
   ]
  },
  {
   "cell_type": "code",
   "execution_count": 12,
   "id": "6f63265a-15a3-4527-8c03-83f62dde9a35",
   "metadata": {},
   "outputs": [
    {
     "name": "stdout",
     "output_type": "stream",
     "text": [
      "['will be raining today', 'It is a pleaant day']\n",
      "[[], [1, 2, 4, 3]]\n"
     ]
    }
   ],
   "source": [
    "new_sequence=tokenizer.texts_to_sequences(new_sentences)\n",
    "print(new_sentences)\n",
    "print(new_sequence)"
   ]
  },
  {
   "cell_type": "raw",
   "id": "cc08a1a7-84ba-4bb9-af5a-3e96e1b9c573",
   "metadata": {},
   "source": [
    "Replacing Newly Encountered Words with Special Values"
   ]
  },
  {
   "cell_type": "code",
   "execution_count": 13,
   "id": "56e509ff-b4e3-42d9-9b11-7808b4e10703",
   "metadata": {},
   "outputs": [],
   "source": [
    "tokenizer=Tokenizer(num_words=100,oov_token=\"<oov>\")\n",
    "tokenizer.fit_on_texts(sample_stentence)\n",
    "new_word_index=tokenizer.word_index"
   ]
  },
  {
   "cell_type": "code",
   "execution_count": 14,
   "id": "9f8effea-26cc-4a7b-ada2-c93439a56300",
   "metadata": {},
   "outputs": [
    {
     "name": "stdout",
     "output_type": "stream",
     "text": [
      "{'<oov>': 1, 'it': 2, 'is': 3, 'day': 4, 'a': 5, 'sunny': 6, 'rainy': 7, 'cloudy': 8}\n",
      "[[1, 1, 1, 1], [2, 3, 5, 1, 4]]\n"
     ]
    }
   ],
   "source": [
    "new_sequence=tokenizer.texts_to_sequences(new_sentences)\n",
    "print(new_word_index)\n",
    "print(new_sequence)"
   ]
  },
  {
   "cell_type": "markdown",
   "id": "d4067dc5-ab77-4f8c-a8f0-6d6e10488659",
   "metadata": {},
   "source": [
    "Padding the Sequence"
   ]
  },
  {
   "cell_type": "code",
   "execution_count": 15,
   "id": "941f48f1-f672-40d1-98c3-a48e754ef393",
   "metadata": {},
   "outputs": [],
   "source": [
    "from tensorflow.keras.preprocessing.text import Tokenizer\n",
    "from tensorflow.keras.preprocessing.sequence import pad_sequences"
   ]
  },
  {
   "cell_type": "code",
   "execution_count": 16,
   "id": "4e427106-bd3c-4f09-bfd8-b42c0e5f9238",
   "metadata": {},
   "outputs": [],
   "source": [
    "sample_stentence=[\"It is a sunny day\",\n",
    "                  \"It is a Rainy Day\",\n",
    "                  \"It is Cloudy day\",\n",
    "               \"will be raining today\",\"It is a pleaant day\"]"
   ]
  },
  {
   "cell_type": "code",
   "execution_count": 17,
   "id": "35fc1f57-ca78-4ecd-a1ab-79686869694d",
   "metadata": {},
   "outputs": [],
   "source": [
    "tokenizer=Tokenizer(num_words=100,oov_token=\"<oov>\")\n",
    "tokenizer.fit_on_texts(sample_stentence)\n",
    "new_sequence=tokenizer.texts_to_sequences(sample_stentence)"
   ]
  },
  {
   "cell_type": "code",
   "execution_count": 18,
   "id": "f0a1aca3-034f-4098-8ee8-a97e632a46cf",
   "metadata": {},
   "outputs": [],
   "source": [
    "padded_seq=pad_sequences(new_sequence)"
   ]
  },
  {
   "cell_type": "code",
   "execution_count": 19,
   "id": "52e79001-dcf4-4695-ba0d-2b9af2476d4a",
   "metadata": {},
   "outputs": [
    {
     "name": "stdout",
     "output_type": "stream",
     "text": [
      "{'it': 1, 'is': 2, 'day': 3, 'a': 4, 'sunny': 5, 'rainy': 6, 'cloudy': 7}\n",
      "['It is a sunny day', 'It is a Rainy Day', 'It is Cloudy day', 'will be raining today', 'It is a pleaant day']\n",
      "[[2, 3, 5, 6, 4], [2, 3, 5, 7, 4], [2, 3, 8, 4], [9, 10, 11, 12], [2, 3, 5, 13, 4]]\n",
      "[[ 2  3  5  6  4]\n",
      " [ 2  3  5  7  4]\n",
      " [ 0  2  3  8  4]\n",
      " [ 0  9 10 11 12]\n",
      " [ 2  3  5 13  4]]\n"
     ]
    }
   ],
   "source": [
    "print(each_wrd_index)\n",
    "print(sample_stentence)\n",
    "print(new_sequence)\n",
    "print(padded_seq)"
   ]
  },
  {
   "cell_type": "markdown",
   "id": "c8ba2f5a-4ff6-4661-9b43-aae186f66853",
   "metadata": {},
   "source": [
    "Customising Padded Squence"
   ]
  },
  {
   "cell_type": "code",
   "execution_count": 20,
   "id": "e8f06fcf-e459-4e90-9122-a63cc12756d2",
   "metadata": {},
   "outputs": [],
   "source": [
    "padded_sequence=pad_sequences(new_sequence,\n",
    "                              padding=\"post\",\n",
    "                              maxlen=4,\n",
    "                              truncating=\"post\")"
   ]
  },
  {
   "cell_type": "code",
   "execution_count": 21,
   "id": "e730c38f-265e-4903-bb38-139f07f53c2f",
   "metadata": {},
   "outputs": [
    {
     "name": "stdout",
     "output_type": "stream",
     "text": [
      "[[ 2  3  5  6]\n",
      " [ 2  3  5  7]\n",
      " [ 2  3  8  4]\n",
      " [ 9 10 11 12]\n",
      " [ 2  3  5 13]]\n"
     ]
    }
   ],
   "source": [
    "print(padded_sequence)"
   ]
  },
  {
   "cell_type": "code",
   "execution_count": 22,
   "id": "226c6932-efcd-4501-a2e8-c09efea988bc",
   "metadata": {},
   "outputs": [],
   "source": [
    "import pandas as pd"
   ]
  },
  {
   "cell_type": "code",
   "execution_count": 87,
   "id": "12f405bb-9e0c-4fcc-8fea-067e4db7a4ed",
   "metadata": {},
   "outputs": [],
   "source": [
    "data=pd.read_json(\"./Sarcasm_Headlines_Dataset.json\",lines=True)"
   ]
  },
  {
   "cell_type": "code",
   "execution_count": 88,
   "id": "12531eb8-e3fa-4175-b541-f1ef1830e5bb",
   "metadata": {},
   "outputs": [
    {
     "data": {
      "text/html": [
       "<div>\n",
       "<style scoped>\n",
       "    .dataframe tbody tr th:only-of-type {\n",
       "        vertical-align: middle;\n",
       "    }\n",
       "\n",
       "    .dataframe tbody tr th {\n",
       "        vertical-align: top;\n",
       "    }\n",
       "\n",
       "    .dataframe thead th {\n",
       "        text-align: right;\n",
       "    }\n",
       "</style>\n",
       "<table border=\"1\" class=\"dataframe\">\n",
       "  <thead>\n",
       "    <tr style=\"text-align: right;\">\n",
       "      <th></th>\n",
       "      <th>article_link</th>\n",
       "      <th>headline</th>\n",
       "      <th>is_sarcastic</th>\n",
       "    </tr>\n",
       "  </thead>\n",
       "  <tbody>\n",
       "    <tr>\n",
       "      <th>0</th>\n",
       "      <td>https://www.huffingtonpost.com/entry/versace-b...</td>\n",
       "      <td>former versace store clerk sues over secret 'b...</td>\n",
       "      <td>0</td>\n",
       "    </tr>\n",
       "    <tr>\n",
       "      <th>1</th>\n",
       "      <td>https://www.huffingtonpost.com/entry/roseanne-...</td>\n",
       "      <td>the 'roseanne' revival catches up to our thorn...</td>\n",
       "      <td>0</td>\n",
       "    </tr>\n",
       "    <tr>\n",
       "      <th>2</th>\n",
       "      <td>https://local.theonion.com/mom-starting-to-fea...</td>\n",
       "      <td>mom starting to fear son's web series closest ...</td>\n",
       "      <td>1</td>\n",
       "    </tr>\n",
       "    <tr>\n",
       "      <th>3</th>\n",
       "      <td>https://politics.theonion.com/boehner-just-wan...</td>\n",
       "      <td>boehner just wants wife to listen, not come up...</td>\n",
       "      <td>1</td>\n",
       "    </tr>\n",
       "    <tr>\n",
       "      <th>4</th>\n",
       "      <td>https://www.huffingtonpost.com/entry/jk-rowlin...</td>\n",
       "      <td>j.k. rowling wishes snape happy birthday in th...</td>\n",
       "      <td>0</td>\n",
       "    </tr>\n",
       "  </tbody>\n",
       "</table>\n",
       "</div>"
      ],
      "text/plain": [
       "                                        article_link  \\\n",
       "0  https://www.huffingtonpost.com/entry/versace-b...   \n",
       "1  https://www.huffingtonpost.com/entry/roseanne-...   \n",
       "2  https://local.theonion.com/mom-starting-to-fea...   \n",
       "3  https://politics.theonion.com/boehner-just-wan...   \n",
       "4  https://www.huffingtonpost.com/entry/jk-rowlin...   \n",
       "\n",
       "                                            headline  is_sarcastic  \n",
       "0  former versace store clerk sues over secret 'b...             0  \n",
       "1  the 'roseanne' revival catches up to our thorn...             0  \n",
       "2  mom starting to fear son's web series closest ...             1  \n",
       "3  boehner just wants wife to listen, not come up...             1  \n",
       "4  j.k. rowling wishes snape happy birthday in th...             0  "
      ]
     },
     "execution_count": 88,
     "metadata": {},
     "output_type": "execute_result"
    }
   ],
   "source": [
    "data.head(5)"
   ]
  },
  {
   "cell_type": "code",
   "execution_count": 89,
   "id": "9f72bf67-d2a9-4f4e-803c-0601f76c440a",
   "metadata": {},
   "outputs": [],
   "source": [
    "headlines=list(data[\"headline\"])\n",
    "labels=list(data[\"is_sarcastic\"])"
   ]
  },
  {
   "cell_type": "code",
   "execution_count": 90,
   "id": "2922cbdf-5cd0-42ee-a3c6-69d44a61e860",
   "metadata": {},
   "outputs": [],
   "source": [
    "tokenizer=Tokenizer(oov_token=\"<oov>\")\n",
    "tokenizer.fit_on_texts(headlines)"
   ]
  },
  {
   "cell_type": "code",
   "execution_count": 91,
   "id": "c0ca0f2d-6016-4af0-bd6b-1bc1bdf2e447",
   "metadata": {},
   "outputs": [],
   "source": [
    "headline_index=tokenizer.word_index"
   ]
  },
  {
   "cell_type": "code",
   "execution_count": 92,
   "id": "79294be5-0611-4819-bfef-a977604c433a",
   "metadata": {},
   "outputs": [],
   "source": [
    "# print(headline_index)"
   ]
  },
  {
   "cell_type": "code",
   "execution_count": 93,
   "id": "b054462e-8e4a-408e-a092-8c9a0c2e02b0",
   "metadata": {},
   "outputs": [],
   "source": [
    "# Create Padded Sequence\n",
    "headline_sequence=tokenizer.texts_to_sequences(headlines)\n",
    "padded_headline_sequence=pad_sequences(headline_sequence,\n",
    "                                      maxlen=1000,\n",
    "                                      padding=\"post\",\n",
    "                                      truncating=\"post\")"
   ]
  },
  {
   "cell_type": "code",
   "execution_count": 30,
   "id": "5de7ddc5-3583-484c-8337-b5f236985f18",
   "metadata": {},
   "outputs": [
    {
     "data": {
      "text/plain": [
       "array([[  308, 15115,   679, ...,     0,     0,     0],\n",
       "       [    4,  8435,  3338, ...,     0,     0,     0],\n",
       "       [  145,   838,     2, ...,     0,     0,     0],\n",
       "       ...,\n",
       "       [10735,     9,    68, ...,     0,     0,     0],\n",
       "       [ 1541,   392,  4164, ...,     0,     0,     0],\n",
       "       [29656,  1647,     6, ...,     0,     0,     0]], dtype=int32)"
      ]
     },
     "execution_count": 30,
     "metadata": {},
     "output_type": "execute_result"
    }
   ],
   "source": [
    "padded_headline_sequence"
   ]
  },
  {
   "cell_type": "markdown",
   "id": "507f99a8-4bab-473b-97a4-05fc57309cc2",
   "metadata": {},
   "source": [
    "Word Embedding for Setntimnt Analysis"
   ]
  },
  {
   "cell_type": "code",
   "execution_count": 31,
   "id": "58c2dd16-a7ab-4a68-abad-5fd97fbd2b17",
   "metadata": {},
   "outputs": [],
   "source": [
    "import numpy as np\n",
    "import pandas as pd\n",
    "import tensorflow_datasets as tfds\n",
    "from tensorflow.keras.preprocessing.text import Tokenizer\n",
    "from tensorflow.keras.preprocessing.sequence import pad_sequences"
   ]
  },
  {
   "cell_type": "code",
   "execution_count": 94,
   "id": "419ecdf4-13e2-49e6-be88-f8898c156491",
   "metadata": {},
   "outputs": [],
   "source": [
    "data,info=tfds.load(\"imdb_reviews\",with_info=True,as_supervised=True)"
   ]
  },
  {
   "cell_type": "code",
   "execution_count": 95,
   "id": "1116909b-cccb-4141-a200-00801c9da248",
   "metadata": {},
   "outputs": [],
   "source": [
    "# data"
   ]
  },
  {
   "cell_type": "code",
   "execution_count": 96,
   "id": "5de998ca-0d49-4ca4-be98-ce981f512493",
   "metadata": {},
   "outputs": [],
   "source": [
    "train_data,test_data=data[\"train\"],data[\"test\"]"
   ]
  },
  {
   "cell_type": "code",
   "execution_count": 105,
   "id": "bb943553-dfb3-41a4-94ed-2970daca8af1",
   "metadata": {},
   "outputs": [
    {
     "name": "stderr",
     "output_type": "stream",
     "text": [
      "2024-08-30 15:23:11.444803: I tensorflow/core/framework/local_rendezvous.cc:404] Local rendezvous is aborting with status: OUT_OF_RANGE: End of sequence\n"
     ]
    }
   ],
   "source": [
    "train_sentences=[]\n",
    "train_labels=[]\n",
    "\n",
    "test_sentences=[]\n",
    "test_labels=[]\n",
    "\n",
    "for s_sentence,s_label in train_data:\n",
    "    train_sentences.append(str(s_sentence.numpy().decode(\"utf8\")))\n",
    "    train_labels.append(s_label.numpy())\n",
    "\n",
    "for s_sentence,s_label in test_data:\n",
    "    test_sentences.append(str(s_sentence.numpy().decode(\"utf8\")))\n",
    "    test_labels.append(s_label.numpy())"
   ]
  },
  {
   "cell_type": "code",
   "execution_count": 106,
   "id": "2df51da1-5180-4640-814d-f4ebc3b2cdc1",
   "metadata": {},
   "outputs": [
    {
     "data": {
      "text/plain": [
       "(25000, 25000, 25000, 25000)"
      ]
     },
     "execution_count": 106,
     "metadata": {},
     "output_type": "execute_result"
    }
   ],
   "source": [
    "len(train_sentences),len(train_labels),len(test_sentences),len(test_labels)"
   ]
  },
  {
   "cell_type": "code",
   "execution_count": 107,
   "id": "aa9f495a-2325-4302-8750-c8b3601b6fef",
   "metadata": {},
   "outputs": [],
   "source": [
    "train_labels=np.array(train_labels)\n",
    "test_labels=np.array(test_labels)"
   ]
  },
  {
   "cell_type": "markdown",
   "id": "50a82e01-d30d-4bc0-971b-cb9c01e88c48",
   "metadata": {},
   "source": [
    "Data Prearation"
   ]
  },
  {
   "cell_type": "code",
   "execution_count": 108,
   "id": "fee5157a-7a6f-4eb1-8d55-7d4ce64448d5",
   "metadata": {},
   "outputs": [],
   "source": [
    "vocab_size=10000\n",
    "embedding_dims=16\n",
    "max_length=150\n",
    "trun_type=\"post\"\n",
    "oov_tok=\"<oov>\""
   ]
  },
  {
   "cell_type": "code",
   "execution_count": 109,
   "id": "21621de1-ae7b-4c8d-928f-4f35ca168e01",
   "metadata": {},
   "outputs": [],
   "source": [
    "tokenizer=Tokenizer(num_words=vocab_size,oov_token=oov_tok)\n",
    "tokenizer.fit_on_texts(train_sentences)\n",
    "train_word_index=tokenizer.index_word"
   ]
  },
  {
   "cell_type": "code",
   "execution_count": 110,
   "id": "1f34c01b-3dec-46bf-bb9a-a3fbc1c667f5",
   "metadata": {},
   "outputs": [],
   "source": [
    "train_sequence=tokenizer.texts_to_sequences(train_sentences)\n",
    "train_padded=pad_sequences(train_sequence,maxlen=max_length,truncating=trun_type)\n",
    "\n",
    "test_sequence=tokenizer.texts_to_sequences(test_sentences)\n",
    "test_padded=pad_sequences(test_sequence,maxlen=max_length)\n"
   ]
  },
  {
   "cell_type": "code",
   "execution_count": 103,
   "id": "775b94d1-d029-4102-8045-5490e173691b",
   "metadata": {},
   "outputs": [
    {
     "name": "stdout",
     "output_type": "stream",
     "text": [
      "I have been known to fall asleep during films, but this is usually due to a combination of things including, really tired, being warm and comfortable on the sette and having just eaten a lot. However on this occasion I fell asleep because the film was rubbish. The plot development was constant. Constantly slow and boring. Things seemed to happen, but with no explanation of what was causing them or why. I admit, I may have missed part of the film, but i watched the majority of it and everything just seemed to happen of its own accord without any real concern for anything else. I cant recommend this film at all.\n",
      "[   0    0    0    0    0    0    0    0    0    0    0    0    0    0\n",
      "    0    0    0    0    0    0    0    0    0    0    0    0    0    0\n",
      "    0    0    0    0    0    0    0    0    0    0   11   26   75  571\n",
      "    6  805 2354  313  106   19   12    7  629  686    6    4 2219    5\n",
      "  181  584   64 1454  110 2263    3 3951   21    2    1    3  258   41\n",
      " 4677    4  174  188   21   12 4078   11 1578 2354   86    2   20   14\n",
      " 1907    2  112  940   14 1811 1340  548    3  355  181  466    6  591\n",
      "   19   17   55 1817    5   49   14 4044   96   40  136   11  972   11\n",
      "  201   26 1046  171    5    2   20   19   11  294    2 2155    5   10\n",
      "    3  283   41  466    6  591    5   92  203    1  207   99  145 4382\n",
      "   16  230  332   11 2486  384   12   20   31   30]\n",
      "? ? ? ? ? ? ? ? ? ? ? ? ? ? ? ? ? ? ? ? ? ? ? ? ? ? ? ? ? ? ? ? ? ? ? ? ? ? ? ? ? ? ? ? ? ? ? ? ? ? ? ? ? ? ? ? ? ? ? ? ? ? ? ? ? ? ? ? ? ? ? ? ? ? ? ? ? ? ? ? ? ? ? ? ? ? ? ? ? ? ? ? ? ? ? ? ? ? ? ? ? ? ? ? ? ? ? ? ? ? ? ? ? ? ? ? ? ? ? ? ? ? ? ? ? ? ? ? ? ? ? ? ? ? ? ? ? ? ? ? ? ? ? ? ? ? ? ? ? ?\n"
     ]
    }
   ],
   "source": [
    "reverse_word_index = dict([(value, key) for (key, value) in train_word_index.items()])\n",
    "\n",
    "def decode_review(text):\n",
    "    return ' '.join([reverse_word_index.get(i, '?') for i in text])\n",
    "\n",
    "print(train_sentences[1])\n",
    "print(train_padded[1])\n",
    "print(decode_review(train_padded[1]))"
   ]
  },
  {
   "cell_type": "code",
   "execution_count": 41,
   "id": "0ad739db-c94a-4e16-90d6-06126660fd9a",
   "metadata": {},
   "outputs": [],
   "source": [
    "reverse_word_index=dict([(value,key) for (key,value) in train_word_index.items()])"
   ]
  },
  {
   "cell_type": "code",
   "execution_count": 42,
   "id": "2c5c0ac6-1a49-472d-b69a-d5954fe7471c",
   "metadata": {},
   "outputs": [],
   "source": [
    "def decode_review(text):\n",
    "    return \" \".join([reverse_word_index.get(i,'?') for i in text])"
   ]
  },
  {
   "cell_type": "code",
   "execution_count": 43,
   "id": "7ba0cf05-5055-45a8-a341-dfe27db010f8",
   "metadata": {},
   "outputs": [
    {
     "name": "stdout",
     "output_type": "stream",
     "text": [
      "This 1984 version of the Dickens' classic `A Christmas Carol,' directed by Clive Donner, stars George C. Scott as Ebenezer Scrooge. By this time around, the challenge for the filmmaker was to take such familiar material and make it seem fresh and new again; and, happily to say, with this film Donner not only met the challenge but surpassed any expectations anyone might have had for it. He tells the story with precision and an eye to detail, and extracts performances from his actors that are nothing less than superlative, especially Scott. One could argue that the definitive portrayal of Scrooge-- one of the best known characters in literary fiction, ever-- was created by Alastair Sim in the 1951 film; but I think with his performance here, Scott has now achieved that distinction. There is such a purity and honesty in his Scrooge that it becomes difficult to even consider anyone else in the role once you've seen Scott do it; simply put, he IS Scrooge. And what a tribute it is to such a gifted actor; to be able to take such a well known figure and make it so uniquely his own is quite miraculous. It is truly a joy to see an actor ply his trade so well, to be able to make a character so real, from every word he utters down to the finest expression of his face, and to make it all ring so true. It's a study in perfection.<br /><br />The other members of the cast are splendid as well, but then again they have to be in order to maintain the integrity of Scott's performance; and they do. Frank Finlay is the Ghost of Jacob Marley; a notable turn, though not as memorable, perhaps, as the one by Alec Guinness (as Marley) in the film, `Scrooge.' Angela Pleasence is a welcome visage as the Spirit of Christmas Past; Edward Woodward, grand and boisterous, and altogether convincing as the Spirit of Christmas Present; and Michael Carter, grim and menacing as the Spirit of Christmas Yet To Come.<br /><br />David Warner hits just the right mark with his Bob Cratchit, bringing a sincerity to the role that measures up well to the standard of quality set by Scott's Scrooge, and Susannah York fares just as well as Mrs. Cratchit. The real gem to be found here, though, is the performance of young Anthony Walters as Tiny Tim; it's heartfelt without ever becoming maudlin, and simply one of the best interpretations-- and the most real-- ever presented on film.<br /><br />The excellent supporting cast includes Roger Rees (Fred Holywell, and also the narrator of the film), Caroline Langrishe (Janet Holywell), Lucy Gutteridge (Belle), Michael Gough (Mr. Poole) and Joanne Whalley (Fan). A flawless presentation, this version of `A Christmas Carol' sets the standard against which all others must be gauged; no matter how many versions you may have seen, watching this one is like seeing it for the first time ever. And forever after, whenever you think of Scrooge, the image your mind will conjure up will be that of George C. Scott. A thoroughly entertaining and satisfying experience, this film demands a place in the annual schedule of the holiday festivities of every home. I rate this one 10/10.\n",
      "[  12 4894  308    5    2    1  354    4  980 3660  756  524   32 6889\n",
      "    1  379  740 1145 1089   15    1 4762   32   12   56  185    2 2917\n",
      "   16    2 1722   14    6  191  139 1077  816    3   95   10  304 1474\n",
      "    3  160  172    3 3085    6  133   17   12   20    1   22   62 1830\n",
      "    2 2917   19    1   99 1397  257  236   26   67   16   10   27  714\n",
      "    2   63   17    1    3   33  742    6 1587    3    1  352   37   25\n",
      "  154   13   24  162  327   72    1  259 1089   29   98 3901   13    2\n",
      " 6261 1142    5 4762   29    5    2  116  571  103    9 5285 1215  124\n",
      "   14 1073   32    1    1    9    2 7266   20   19   11  102   17   25\n",
      "  237  131 1089   46  148 3286   13 8061   48    7  139    4    1    3\n",
      " 4349    9   25 4762   13   10  458  876    6   58]\n",
      "? ? ? ? ? ? ? ? ? ? ? ? ? ? ? ? ? ? ? ? ? ? ? ? ? ? ? ? ? ? ? ? ? ? ? ? ? ? ? ? ? ? ? ? ? ? ? ? ? ? ? ? ? ? ? ? ? ? ? ? ? ? ? ? ? ? ? ? ? ? ? ? ? ? ? ? ? ? ? ? ? ? ? ? ? ? ? ? ? ? ? ? ? ? ? ? ? ? ? ? ? ? ? ? ? ? ? ? ? ? ? ? ? ? ? ? ? ? ? ? ? ? ? ? ? ? ? ? ? ? ? ? ? ? ? ? ? ? ? ? ? ? ? ? ? ? ? ? ? ?\n"
     ]
    }
   ],
   "source": [
    "print(train_sentences[12])\n",
    "print(train_padded[12])\n",
    "print(decode_review(train_padded[12]))"
   ]
  },
  {
   "cell_type": "markdown",
   "id": "3a6702b5-bb07-4899-8384-674a1516a01e",
   "metadata": {},
   "source": [
    "Defining Neural Network"
   ]
  },
  {
   "cell_type": "code",
   "execution_count": 44,
   "id": "51009f1a-8079-48c3-89ca-918fd51f638a",
   "metadata": {},
   "outputs": [],
   "source": [
    "model=tf.keras.Sequential(\n",
    "    [tf.keras.layers.Embedding(vocab_size,embedding_dims),\n",
    "    tf.keras.layers.Flatten(),\n",
    "    tf.keras.layers.Dense(6,activation=\"relu\"),\n",
    "    tf.keras.layers.Dense(1,activation=\"sigmoid\")]\n",
    ")"
   ]
  },
  {
   "cell_type": "code",
   "execution_count": 45,
   "id": "d82526c7-914d-44a3-a099-a34de4dee7d7",
   "metadata": {},
   "outputs": [],
   "source": [
    "model.compile(loss=\"binary_crossentropy\",optimizer=\"adam\",metrics=[\"accuracy\"])"
   ]
  },
  {
   "cell_type": "code",
   "execution_count": 46,
   "id": "cf83b827-0429-406b-8268-d58e3ebc3096",
   "metadata": {},
   "outputs": [
    {
     "data": {
      "text/html": [
       "<pre style=\"white-space:pre;overflow-x:auto;line-height:normal;font-family:Menlo,'DejaVu Sans Mono',consolas,'Courier New',monospace\"><span style=\"font-weight: bold\">Model: \"sequential\"</span>\n",
       "</pre>\n"
      ],
      "text/plain": [
       "\u001b[1mModel: \"sequential\"\u001b[0m\n"
      ]
     },
     "metadata": {},
     "output_type": "display_data"
    },
    {
     "data": {
      "text/html": [
       "<pre style=\"white-space:pre;overflow-x:auto;line-height:normal;font-family:Menlo,'DejaVu Sans Mono',consolas,'Courier New',monospace\">┏━━━━━━━━━━━━━━━━━━━━━━━━━━━━━━━━━┳━━━━━━━━━━━━━━━━━━━━━━━━┳━━━━━━━━━━━━━━━┓\n",
       "┃<span style=\"font-weight: bold\"> Layer (type)                    </span>┃<span style=\"font-weight: bold\"> Output Shape           </span>┃<span style=\"font-weight: bold\">       Param # </span>┃\n",
       "┡━━━━━━━━━━━━━━━━━━━━━━━━━━━━━━━━━╇━━━━━━━━━━━━━━━━━━━━━━━━╇━━━━━━━━━━━━━━━┩\n",
       "│ embedding (<span style=\"color: #0087ff; text-decoration-color: #0087ff\">Embedding</span>)           │ ?                      │   <span style=\"color: #00af00; text-decoration-color: #00af00\">0</span> (unbuilt) │\n",
       "├─────────────────────────────────┼────────────────────────┼───────────────┤\n",
       "│ flatten (<span style=\"color: #0087ff; text-decoration-color: #0087ff\">Flatten</span>)               │ ?                      │   <span style=\"color: #00af00; text-decoration-color: #00af00\">0</span> (unbuilt) │\n",
       "├─────────────────────────────────┼────────────────────────┼───────────────┤\n",
       "│ dense (<span style=\"color: #0087ff; text-decoration-color: #0087ff\">Dense</span>)                   │ ?                      │   <span style=\"color: #00af00; text-decoration-color: #00af00\">0</span> (unbuilt) │\n",
       "├─────────────────────────────────┼────────────────────────┼───────────────┤\n",
       "│ dense_1 (<span style=\"color: #0087ff; text-decoration-color: #0087ff\">Dense</span>)                 │ ?                      │   <span style=\"color: #00af00; text-decoration-color: #00af00\">0</span> (unbuilt) │\n",
       "└─────────────────────────────────┴────────────────────────┴───────────────┘\n",
       "</pre>\n"
      ],
      "text/plain": [
       "┏━━━━━━━━━━━━━━━━━━━━━━━━━━━━━━━━━┳━━━━━━━━━━━━━━━━━━━━━━━━┳━━━━━━━━━━━━━━━┓\n",
       "┃\u001b[1m \u001b[0m\u001b[1mLayer (type)                   \u001b[0m\u001b[1m \u001b[0m┃\u001b[1m \u001b[0m\u001b[1mOutput Shape          \u001b[0m\u001b[1m \u001b[0m┃\u001b[1m \u001b[0m\u001b[1m      Param #\u001b[0m\u001b[1m \u001b[0m┃\n",
       "┡━━━━━━━━━━━━━━━━━━━━━━━━━━━━━━━━━╇━━━━━━━━━━━━━━━━━━━━━━━━╇━━━━━━━━━━━━━━━┩\n",
       "│ embedding (\u001b[38;5;33mEmbedding\u001b[0m)           │ ?                      │   \u001b[38;5;34m0\u001b[0m (unbuilt) │\n",
       "├─────────────────────────────────┼────────────────────────┼───────────────┤\n",
       "│ flatten (\u001b[38;5;33mFlatten\u001b[0m)               │ ?                      │   \u001b[38;5;34m0\u001b[0m (unbuilt) │\n",
       "├─────────────────────────────────┼────────────────────────┼───────────────┤\n",
       "│ dense (\u001b[38;5;33mDense\u001b[0m)                   │ ?                      │   \u001b[38;5;34m0\u001b[0m (unbuilt) │\n",
       "├─────────────────────────────────┼────────────────────────┼───────────────┤\n",
       "│ dense_1 (\u001b[38;5;33mDense\u001b[0m)                 │ ?                      │   \u001b[38;5;34m0\u001b[0m (unbuilt) │\n",
       "└─────────────────────────────────┴────────────────────────┴───────────────┘\n"
      ]
     },
     "metadata": {},
     "output_type": "display_data"
    },
    {
     "data": {
      "text/html": [
       "<pre style=\"white-space:pre;overflow-x:auto;line-height:normal;font-family:Menlo,'DejaVu Sans Mono',consolas,'Courier New',monospace\"><span style=\"font-weight: bold\"> Total params: </span><span style=\"color: #00af00; text-decoration-color: #00af00\">0</span> (0.00 B)\n",
       "</pre>\n"
      ],
      "text/plain": [
       "\u001b[1m Total params: \u001b[0m\u001b[38;5;34m0\u001b[0m (0.00 B)\n"
      ]
     },
     "metadata": {},
     "output_type": "display_data"
    },
    {
     "data": {
      "text/html": [
       "<pre style=\"white-space:pre;overflow-x:auto;line-height:normal;font-family:Menlo,'DejaVu Sans Mono',consolas,'Courier New',monospace\"><span style=\"font-weight: bold\"> Trainable params: </span><span style=\"color: #00af00; text-decoration-color: #00af00\">0</span> (0.00 B)\n",
       "</pre>\n"
      ],
      "text/plain": [
       "\u001b[1m Trainable params: \u001b[0m\u001b[38;5;34m0\u001b[0m (0.00 B)\n"
      ]
     },
     "metadata": {},
     "output_type": "display_data"
    },
    {
     "data": {
      "text/html": [
       "<pre style=\"white-space:pre;overflow-x:auto;line-height:normal;font-family:Menlo,'DejaVu Sans Mono',consolas,'Courier New',monospace\"><span style=\"font-weight: bold\"> Non-trainable params: </span><span style=\"color: #00af00; text-decoration-color: #00af00\">0</span> (0.00 B)\n",
       "</pre>\n"
      ],
      "text/plain": [
       "\u001b[1m Non-trainable params: \u001b[0m\u001b[38;5;34m0\u001b[0m (0.00 B)\n"
      ]
     },
     "metadata": {},
     "output_type": "display_data"
    }
   ],
   "source": [
    "model.summary()"
   ]
  },
  {
   "cell_type": "markdown",
   "id": "d11ac582-9941-4596-b234-d95adfe2ef3b",
   "metadata": {},
   "source": [
    "model training "
   ]
  },
  {
   "cell_type": "code",
   "execution_count": 47,
   "id": "a43d36bf-4fe5-4ad0-a5e8-0af7dc130817",
   "metadata": {},
   "outputs": [
    {
     "name": "stdout",
     "output_type": "stream",
     "text": [
      "Epoch 1/10\n",
      "\u001b[1m782/782\u001b[0m \u001b[32m━━━━━━━━━━━━━━━━━━━━\u001b[0m\u001b[37m\u001b[0m \u001b[1m1s\u001b[0m 1ms/step - accuracy: 0.6439 - loss: 0.6005 - val_accuracy: 0.8561 - val_loss: 0.3257\n",
      "Epoch 2/10\n",
      "\u001b[1m782/782\u001b[0m \u001b[32m━━━━━━━━━━━━━━━━━━━━\u001b[0m\u001b[37m\u001b[0m \u001b[1m1s\u001b[0m 1ms/step - accuracy: 0.9040 - loss: 0.2438 - val_accuracy: 0.8473 - val_loss: 0.3555\n",
      "Epoch 3/10\n",
      "\u001b[1m782/782\u001b[0m \u001b[32m━━━━━━━━━━━━━━━━━━━━\u001b[0m\u001b[37m\u001b[0m \u001b[1m1s\u001b[0m 1ms/step - accuracy: 0.9661 - loss: 0.1180 - val_accuracy: 0.8406 - val_loss: 0.4066\n",
      "Epoch 4/10\n",
      "\u001b[1m782/782\u001b[0m \u001b[32m━━━━━━━━━━━━━━━━━━━━\u001b[0m\u001b[37m\u001b[0m \u001b[1m1s\u001b[0m 1ms/step - accuracy: 0.9915 - loss: 0.0393 - val_accuracy: 0.8394 - val_loss: 0.4668\n",
      "Epoch 5/10\n",
      "\u001b[1m782/782\u001b[0m \u001b[32m━━━━━━━━━━━━━━━━━━━━\u001b[0m\u001b[37m\u001b[0m \u001b[1m1s\u001b[0m 1ms/step - accuracy: 0.9984 - loss: 0.0118 - val_accuracy: 0.8401 - val_loss: 0.5376\n",
      "Epoch 6/10\n",
      "\u001b[1m782/782\u001b[0m \u001b[32m━━━━━━━━━━━━━━━━━━━━\u001b[0m\u001b[37m\u001b[0m \u001b[1m1s\u001b[0m 1ms/step - accuracy: 0.9996 - loss: 0.0040 - val_accuracy: 0.8348 - val_loss: 0.6193\n",
      "Epoch 7/10\n",
      "\u001b[1m782/782\u001b[0m \u001b[32m━━━━━━━━━━━━━━━━━━━━\u001b[0m\u001b[37m\u001b[0m \u001b[1m1s\u001b[0m 1ms/step - accuracy: 1.0000 - loss: 0.0015 - val_accuracy: 0.8444 - val_loss: 0.6226\n",
      "Epoch 8/10\n",
      "\u001b[1m782/782\u001b[0m \u001b[32m━━━━━━━━━━━━━━━━━━━━\u001b[0m\u001b[37m\u001b[0m \u001b[1m1s\u001b[0m 1ms/step - accuracy: 0.9999 - loss: 7.6570e-04 - val_accuracy: 0.8383 - val_loss: 0.6808\n",
      "Epoch 9/10\n",
      "\u001b[1m782/782\u001b[0m \u001b[32m━━━━━━━━━━━━━━━━━━━━\u001b[0m\u001b[37m\u001b[0m \u001b[1m1s\u001b[0m 1ms/step - accuracy: 1.0000 - loss: 7.2057e-04 - val_accuracy: 0.8410 - val_loss: 0.7165\n",
      "Epoch 10/10\n",
      "\u001b[1m782/782\u001b[0m \u001b[32m━━━━━━━━━━━━━━━━━━━━\u001b[0m\u001b[37m\u001b[0m \u001b[1m1s\u001b[0m 1ms/step - accuracy: 0.9988 - loss: 0.0053 - val_accuracy: 0.8367 - val_loss: 0.8031\n"
     ]
    },
    {
     "data": {
      "text/plain": [
       "<keras.src.callbacks.history.History at 0x2939523f0>"
      ]
     },
     "execution_count": 47,
     "metadata": {},
     "output_type": "execute_result"
    }
   ],
   "source": [
    "num_epochs=10\n",
    "model.fit(train_padded,train_labels,epochs=num_epochs,validation_data=(test_padded,test_labels))"
   ]
  },
  {
   "cell_type": "code",
   "execution_count": 48,
   "id": "96fbab33-1ad2-497d-b5fe-47c25eb656ee",
   "metadata": {},
   "outputs": [],
   "source": [
    "l1=model.layers[0]"
   ]
  },
  {
   "cell_type": "code",
   "execution_count": 49,
   "id": "51a71454-efcc-45cc-b9e7-eee2a0417c36",
   "metadata": {},
   "outputs": [],
   "source": [
    "weights=l1.get_weights()[0] "
   ]
  },
  {
   "cell_type": "code",
   "execution_count": 50,
   "id": "b6f2aa28-4f5f-4ff6-bb2f-64500de19c26",
   "metadata": {},
   "outputs": [
    {
     "name": "stdout",
     "output_type": "stream",
     "text": [
      "(10000, 16)\n"
     ]
    }
   ],
   "source": [
    "print(weights.shape)"
   ]
  },
  {
   "cell_type": "code",
   "execution_count": 51,
   "id": "2691715e-11ee-449a-b907-258a0b9dd11d",
   "metadata": {},
   "outputs": [
    {
     "name": "stdout",
     "output_type": "stream",
     "text": [
      "[[ 0.00342315 -0.02873652 -0.02317829 ...  0.01717788  0.01050576\n",
      "   0.00590531]\n",
      " [ 0.00186289 -0.00641223 -0.1064241  ...  0.11152837  0.010881\n",
      "   0.04139196]\n",
      " [-0.02761421 -0.01409279 -0.06043289 ...  0.04221026  0.0426674\n",
      "   0.08965921]\n",
      " ...\n",
      " [-0.0341365   0.01604268 -0.10272564 ... -0.13017605  0.15796998\n",
      "  -0.13821319]\n",
      " [-0.05898974 -0.01386654 -0.11921073 ... -0.02815987  0.07929522\n",
      "  -0.02766588]\n",
      " [ 0.11017534 -0.05797466 -0.11416346 ... -0.04410853  0.16170958\n",
      "  -0.00369502]]\n"
     ]
    }
   ],
   "source": [
    "print(weights)"
   ]
  },
  {
   "cell_type": "markdown",
   "id": "bc35d199-58a7-47a7-bfaf-97aa5c875242",
   "metadata": {},
   "source": [
    "Projecting Embedding on Tensorflow projector"
   ]
  },
  {
   "cell_type": "code",
   "execution_count": 54,
   "id": "0878a877-16c5-49f8-88e6-a1f72516ceca",
   "metadata": {},
   "outputs": [],
   "source": [
    "import numpy as np\n",
    "import pandas as d\n",
    "import tensorflow_datasets as tfds\n",
    "from tensorflow.keras.preprocessing.text import Tokenizer\n",
    "from tensorflow.keras.preprocessing.sequence import pad_sequences"
   ]
  },
  {
   "cell_type": "code",
   "execution_count": 57,
   "id": "ec5224c8-a190-4419-a8b6-e965362791ab",
   "metadata": {},
   "outputs": [],
   "source": [
    "data,info=tfds.load(\"imdb_reviews\",with_info=True, as_supervised=True)"
   ]
  },
  {
   "cell_type": "code",
   "execution_count": 77,
   "id": "f341e7fd-dbc0-47ca-8c7a-3262d737e42a",
   "metadata": {},
   "outputs": [],
   "source": [
    "# reverse_word_index"
   ]
  },
  {
   "cell_type": "code",
   "execution_count": 70,
   "id": "7c5f3866-af3f-4a2b-8ee4-b436ba5d8690",
   "metadata": {},
   "outputs": [],
   "source": [
    "reverse_reverse_word_index={}\n",
    "for s_letter in reverse_word_index:\n",
    "    reverse_reverse_word_index[reverse_word_index[s_letter]]=s_letter"
   ]
  },
  {
   "cell_type": "code",
   "execution_count": 71,
   "id": "349d8e11-d019-44e6-9aa2-be93d6378024",
   "metadata": {
    "scrolled": true
   },
   "outputs": [
    {
     "data": {
      "text/plain": [
       "{1: '<oov>',\n",
       " 2: 'the',\n",
       " 3: 'and',\n",
       " 4: 'a',\n",
       " 5: 'of',\n",
       " 6: 'to',\n",
       " 7: 'is',\n",
       " 8: 'br',\n",
       " 9: 'in',\n",
       " 10: 'it',\n",
       " 11: 'i',\n",
       " 12: 'this',\n",
       " 13: 'that',\n",
       " 14: 'was',\n",
       " 15: 'as',\n",
       " 16: 'for',\n",
       " 17: 'with',\n",
       " 18: 'movie',\n",
       " 19: 'but',\n",
       " 20: 'film',\n",
       " 21: 'on',\n",
       " 22: 'not',\n",
       " 23: 'you',\n",
       " 24: 'are',\n",
       " 25: 'his',\n",
       " 26: 'have',\n",
       " 27: 'he',\n",
       " 28: 'be',\n",
       " 29: 'one',\n",
       " 30: 'all',\n",
       " 31: 'at',\n",
       " 32: 'by',\n",
       " 33: 'an',\n",
       " 34: 'they',\n",
       " 35: 'who',\n",
       " 36: 'so',\n",
       " 37: 'from',\n",
       " 38: 'like',\n",
       " 39: 'her',\n",
       " 40: 'or',\n",
       " 41: 'just',\n",
       " 42: 'about',\n",
       " 43: \"it's\",\n",
       " 44: 'out',\n",
       " 45: 'if',\n",
       " 46: 'has',\n",
       " 47: 'some',\n",
       " 48: 'there',\n",
       " 49: 'what',\n",
       " 50: 'good',\n",
       " 51: 'more',\n",
       " 52: 'when',\n",
       " 53: 'very',\n",
       " 54: 'up',\n",
       " 55: 'no',\n",
       " 56: 'time',\n",
       " 57: 'she',\n",
       " 58: 'even',\n",
       " 59: 'my',\n",
       " 60: 'would',\n",
       " 61: 'which',\n",
       " 62: 'only',\n",
       " 63: 'story',\n",
       " 64: 'really',\n",
       " 65: 'see',\n",
       " 66: 'their',\n",
       " 67: 'had',\n",
       " 68: 'can',\n",
       " 69: 'were',\n",
       " 70: 'me',\n",
       " 71: 'well',\n",
       " 72: 'than',\n",
       " 73: 'we',\n",
       " 74: 'much',\n",
       " 75: 'been',\n",
       " 76: 'bad',\n",
       " 77: 'get',\n",
       " 78: 'will',\n",
       " 79: 'do',\n",
       " 80: 'also',\n",
       " 81: 'into',\n",
       " 82: 'people',\n",
       " 83: 'other',\n",
       " 84: 'first',\n",
       " 85: 'great',\n",
       " 86: 'because',\n",
       " 87: 'how',\n",
       " 88: 'him',\n",
       " 89: 'most',\n",
       " 90: \"don't\",\n",
       " 91: 'made',\n",
       " 92: 'its',\n",
       " 93: 'then',\n",
       " 94: 'way',\n",
       " 95: 'make',\n",
       " 96: 'them',\n",
       " 97: 'too',\n",
       " 98: 'could',\n",
       " 99: 'any',\n",
       " 100: 'movies',\n",
       " 101: 'after',\n",
       " 102: 'think',\n",
       " 103: 'characters',\n",
       " 104: 'watch',\n",
       " 105: 'two',\n",
       " 106: 'films',\n",
       " 107: 'character',\n",
       " 108: 'seen',\n",
       " 109: 'many',\n",
       " 110: 'being',\n",
       " 111: 'life',\n",
       " 112: 'plot',\n",
       " 113: 'never',\n",
       " 114: 'acting',\n",
       " 115: 'little',\n",
       " 116: 'best',\n",
       " 117: 'love',\n",
       " 118: 'over',\n",
       " 119: 'where',\n",
       " 120: 'did',\n",
       " 121: 'show',\n",
       " 122: 'know',\n",
       " 123: 'off',\n",
       " 124: 'ever',\n",
       " 125: 'does',\n",
       " 126: 'better',\n",
       " 127: 'your',\n",
       " 128: 'end',\n",
       " 129: 'still',\n",
       " 130: 'man',\n",
       " 131: 'here',\n",
       " 132: 'these',\n",
       " 133: 'say',\n",
       " 134: 'scene',\n",
       " 135: 'while',\n",
       " 136: 'why',\n",
       " 137: 'scenes',\n",
       " 138: 'go',\n",
       " 139: 'such',\n",
       " 140: 'something',\n",
       " 141: 'through',\n",
       " 142: 'should',\n",
       " 143: 'back',\n",
       " 144: \"i'm\",\n",
       " 145: 'real',\n",
       " 146: 'those',\n",
       " 147: 'watching',\n",
       " 148: 'now',\n",
       " 149: 'though',\n",
       " 150: \"doesn't\",\n",
       " 151: 'years',\n",
       " 152: 'old',\n",
       " 153: 'thing',\n",
       " 154: 'actors',\n",
       " 155: 'work',\n",
       " 156: '10',\n",
       " 157: 'before',\n",
       " 158: 'another',\n",
       " 159: \"didn't\",\n",
       " 160: 'new',\n",
       " 161: 'funny',\n",
       " 162: 'nothing',\n",
       " 163: 'actually',\n",
       " 164: 'makes',\n",
       " 165: 'director',\n",
       " 166: 'look',\n",
       " 167: 'find',\n",
       " 168: 'going',\n",
       " 169: 'few',\n",
       " 170: 'same',\n",
       " 171: 'part',\n",
       " 172: 'again',\n",
       " 173: 'every',\n",
       " 174: 'lot',\n",
       " 175: 'cast',\n",
       " 176: 'us',\n",
       " 177: 'quite',\n",
       " 178: 'down',\n",
       " 179: 'want',\n",
       " 180: 'world',\n",
       " 181: 'things',\n",
       " 182: 'pretty',\n",
       " 183: 'young',\n",
       " 184: 'seems',\n",
       " 185: 'around',\n",
       " 186: 'got',\n",
       " 187: 'horror',\n",
       " 188: 'however',\n",
       " 189: \"can't\",\n",
       " 190: 'fact',\n",
       " 191: 'take',\n",
       " 192: 'big',\n",
       " 193: 'enough',\n",
       " 194: 'long',\n",
       " 195: 'thought',\n",
       " 196: \"that's\",\n",
       " 197: 'both',\n",
       " 198: 'between',\n",
       " 199: 'series',\n",
       " 200: 'give',\n",
       " 201: 'may',\n",
       " 202: 'original',\n",
       " 203: 'own',\n",
       " 204: 'action',\n",
       " 205: \"i've\",\n",
       " 206: 'right',\n",
       " 207: 'without',\n",
       " 208: 'always',\n",
       " 209: 'times',\n",
       " 210: 'comedy',\n",
       " 211: 'point',\n",
       " 212: 'gets',\n",
       " 213: 'must',\n",
       " 214: 'come',\n",
       " 215: 'role',\n",
       " 216: \"isn't\",\n",
       " 217: 'saw',\n",
       " 218: 'almost',\n",
       " 219: 'interesting',\n",
       " 220: 'least',\n",
       " 221: 'family',\n",
       " 222: 'done',\n",
       " 223: \"there's\",\n",
       " 224: 'whole',\n",
       " 225: 'bit',\n",
       " 226: 'music',\n",
       " 227: 'script',\n",
       " 228: 'far',\n",
       " 229: 'making',\n",
       " 230: 'anything',\n",
       " 231: 'guy',\n",
       " 232: 'minutes',\n",
       " 233: 'feel',\n",
       " 234: 'last',\n",
       " 235: 'since',\n",
       " 236: 'might',\n",
       " 237: 'performance',\n",
       " 238: \"he's\",\n",
       " 239: '2',\n",
       " 240: 'probably',\n",
       " 241: 'kind',\n",
       " 242: 'am',\n",
       " 243: 'away',\n",
       " 244: 'yet',\n",
       " 245: 'rather',\n",
       " 246: 'tv',\n",
       " 247: 'worst',\n",
       " 248: 'girl',\n",
       " 249: 'day',\n",
       " 250: 'sure',\n",
       " 251: 'fun',\n",
       " 252: 'hard',\n",
       " 253: 'woman',\n",
       " 254: 'played',\n",
       " 255: 'each',\n",
       " 256: 'found',\n",
       " 257: 'anyone',\n",
       " 258: 'having',\n",
       " 259: 'especially',\n",
       " 260: 'although',\n",
       " 261: 'our',\n",
       " 262: 'course',\n",
       " 263: 'believe',\n",
       " 264: 'comes',\n",
       " 265: 'looking',\n",
       " 266: 'screen',\n",
       " 267: 'trying',\n",
       " 268: 'set',\n",
       " 269: 'goes',\n",
       " 270: 'looks',\n",
       " 271: 'place',\n",
       " 272: 'book',\n",
       " 273: 'different',\n",
       " 274: 'put',\n",
       " 275: 'ending',\n",
       " 276: 'money',\n",
       " 277: 'maybe',\n",
       " 278: 'once',\n",
       " 279: 'sense',\n",
       " 280: 'reason',\n",
       " 281: 'true',\n",
       " 282: 'actor',\n",
       " 283: 'everything',\n",
       " 284: \"wasn't\",\n",
       " 285: 'shows',\n",
       " 286: 'dvd',\n",
       " 287: 'three',\n",
       " 288: 'worth',\n",
       " 289: 'year',\n",
       " 290: 'job',\n",
       " 291: 'main',\n",
       " 292: 'someone',\n",
       " 293: 'together',\n",
       " 294: 'watched',\n",
       " 295: 'play',\n",
       " 296: 'american',\n",
       " 297: 'plays',\n",
       " 298: '1',\n",
       " 299: 'said',\n",
       " 300: 'effects',\n",
       " 301: 'later',\n",
       " 302: 'takes',\n",
       " 303: 'instead',\n",
       " 304: 'seem',\n",
       " 305: 'beautiful',\n",
       " 306: 'john',\n",
       " 307: 'himself',\n",
       " 308: 'version',\n",
       " 309: 'audience',\n",
       " 310: 'high',\n",
       " 311: 'house',\n",
       " 312: 'night',\n",
       " 313: 'during',\n",
       " 314: 'everyone',\n",
       " 315: 'left',\n",
       " 316: 'special',\n",
       " 317: 'seeing',\n",
       " 318: 'half',\n",
       " 319: 'excellent',\n",
       " 320: 'wife',\n",
       " 321: 'star',\n",
       " 322: 'shot',\n",
       " 323: 'war',\n",
       " 324: 'idea',\n",
       " 325: 'nice',\n",
       " 326: 'black',\n",
       " 327: 'less',\n",
       " 328: 'mind',\n",
       " 329: 'simply',\n",
       " 330: 'read',\n",
       " 331: 'second',\n",
       " 332: 'else',\n",
       " 333: \"you're\",\n",
       " 334: 'father',\n",
       " 335: 'fan',\n",
       " 336: 'help',\n",
       " 337: 'poor',\n",
       " 338: 'completely',\n",
       " 339: 'death',\n",
       " 340: '3',\n",
       " 341: 'used',\n",
       " 342: 'home',\n",
       " 343: 'either',\n",
       " 344: 'short',\n",
       " 345: 'line',\n",
       " 346: 'given',\n",
       " 347: 'men',\n",
       " 348: 'top',\n",
       " 349: 'dead',\n",
       " 350: 'budget',\n",
       " 351: 'try',\n",
       " 352: 'performances',\n",
       " 353: 'wrong',\n",
       " 354: 'classic',\n",
       " 355: 'boring',\n",
       " 356: 'enjoy',\n",
       " 357: 'need',\n",
       " 358: 'rest',\n",
       " 359: 'use',\n",
       " 360: 'hollywood',\n",
       " 361: 'kids',\n",
       " 362: 'low',\n",
       " 363: 'production',\n",
       " 364: 'until',\n",
       " 365: 'along',\n",
       " 366: 'full',\n",
       " 367: 'friends',\n",
       " 368: 'camera',\n",
       " 369: 'truly',\n",
       " 370: 'women',\n",
       " 371: 'awful',\n",
       " 372: 'video',\n",
       " 373: 'next',\n",
       " 374: 'tell',\n",
       " 375: 'remember',\n",
       " 376: 'couple',\n",
       " 377: 'stupid',\n",
       " 378: 'start',\n",
       " 379: 'stars',\n",
       " 380: 'perhaps',\n",
       " 381: 'mean',\n",
       " 382: 'sex',\n",
       " 383: 'came',\n",
       " 384: 'recommend',\n",
       " 385: 'let',\n",
       " 386: 'moments',\n",
       " 387: 'wonderful',\n",
       " 388: 'episode',\n",
       " 389: 'understand',\n",
       " 390: 'small',\n",
       " 391: 'face',\n",
       " 392: 'terrible',\n",
       " 393: 'school',\n",
       " 394: 'playing',\n",
       " 395: 'getting',\n",
       " 396: 'written',\n",
       " 397: 'often',\n",
       " 398: 'doing',\n",
       " 399: 'keep',\n",
       " 400: 'early',\n",
       " 401: 'name',\n",
       " 402: 'perfect',\n",
       " 403: 'style',\n",
       " 404: 'human',\n",
       " 405: 'definitely',\n",
       " 406: 'others',\n",
       " 407: 'gives',\n",
       " 408: 'itself',\n",
       " 409: 'lines',\n",
       " 410: 'live',\n",
       " 411: 'become',\n",
       " 412: 'person',\n",
       " 413: 'dialogue',\n",
       " 414: 'lost',\n",
       " 415: 'finally',\n",
       " 416: 'piece',\n",
       " 417: 'head',\n",
       " 418: 'case',\n",
       " 419: 'felt',\n",
       " 420: 'yes',\n",
       " 421: 'liked',\n",
       " 422: 'supposed',\n",
       " 423: 'title',\n",
       " 424: \"couldn't\",\n",
       " 425: 'absolutely',\n",
       " 426: 'white',\n",
       " 427: 'against',\n",
       " 428: 'boy',\n",
       " 429: 'picture',\n",
       " 430: 'sort',\n",
       " 431: 'worse',\n",
       " 432: 'certainly',\n",
       " 433: 'went',\n",
       " 434: 'entire',\n",
       " 435: 'cinema',\n",
       " 436: 'waste',\n",
       " 437: 'problem',\n",
       " 438: 'hope',\n",
       " 439: \"she's\",\n",
       " 440: 'entertaining',\n",
       " 441: 'mr',\n",
       " 442: 'overall',\n",
       " 443: 'evil',\n",
       " 444: 'called',\n",
       " 445: 'loved',\n",
       " 446: 'based',\n",
       " 447: 'oh',\n",
       " 448: 'several',\n",
       " 449: 'fans',\n",
       " 450: 'mother',\n",
       " 451: 'drama',\n",
       " 452: 'beginning',\n",
       " 453: 'killer',\n",
       " 454: 'lives',\n",
       " 455: '5',\n",
       " 456: 'direction',\n",
       " 457: 'care',\n",
       " 458: 'becomes',\n",
       " 459: 'already',\n",
       " 460: 'laugh',\n",
       " 461: 'example',\n",
       " 462: 'friend',\n",
       " 463: 'dark',\n",
       " 464: 'despite',\n",
       " 465: 'under',\n",
       " 466: 'seemed',\n",
       " 467: 'throughout',\n",
       " 468: '4',\n",
       " 469: 'turn',\n",
       " 470: 'unfortunately',\n",
       " 471: 'wanted',\n",
       " 472: \"i'd\",\n",
       " 473: '\\x96',\n",
       " 474: 'children',\n",
       " 475: 'final',\n",
       " 476: 'fine',\n",
       " 477: 'history',\n",
       " 478: 'amazing',\n",
       " 479: 'sound',\n",
       " 480: 'guess',\n",
       " 481: 'heart',\n",
       " 482: 'totally',\n",
       " 483: 'humor',\n",
       " 484: 'lead',\n",
       " 485: 'writing',\n",
       " 486: 'michael',\n",
       " 487: 'quality',\n",
       " 488: \"you'll\",\n",
       " 489: 'close',\n",
       " 490: 'son',\n",
       " 491: 'wants',\n",
       " 492: 'guys',\n",
       " 493: 'works',\n",
       " 494: 'behind',\n",
       " 495: 'tries',\n",
       " 496: 'art',\n",
       " 497: 'side',\n",
       " 498: 'game',\n",
       " 499: 'past',\n",
       " 500: 'able',\n",
       " 501: 'b',\n",
       " 502: 'days',\n",
       " 503: 'turns',\n",
       " 504: \"they're\",\n",
       " 505: 'child',\n",
       " 506: 'hand',\n",
       " 507: 'flick',\n",
       " 508: 'enjoyed',\n",
       " 509: 'act',\n",
       " 510: 'genre',\n",
       " 511: 'town',\n",
       " 512: 'favorite',\n",
       " 513: 'soon',\n",
       " 514: 'kill',\n",
       " 515: 'starts',\n",
       " 516: 'sometimes',\n",
       " 517: 'gave',\n",
       " 518: 'car',\n",
       " 519: 'run',\n",
       " 520: 'late',\n",
       " 521: 'eyes',\n",
       " 522: 'etc',\n",
       " 523: 'actress',\n",
       " 524: 'directed',\n",
       " 525: 'horrible',\n",
       " 526: \"won't\",\n",
       " 527: 'brilliant',\n",
       " 528: 'viewer',\n",
       " 529: 'parts',\n",
       " 530: 'themselves',\n",
       " 531: 'self',\n",
       " 532: 'hour',\n",
       " 533: 'expect',\n",
       " 534: 'thinking',\n",
       " 535: 'stories',\n",
       " 536: 'stuff',\n",
       " 537: 'girls',\n",
       " 538: 'obviously',\n",
       " 539: 'blood',\n",
       " 540: 'decent',\n",
       " 541: 'city',\n",
       " 542: 'voice',\n",
       " 543: 'highly',\n",
       " 544: 'myself',\n",
       " 545: 'feeling',\n",
       " 546: 'fight',\n",
       " 547: 'except',\n",
       " 548: 'slow',\n",
       " 549: 'matter',\n",
       " 550: 'type',\n",
       " 551: 'anyway',\n",
       " 552: 'kid',\n",
       " 553: 'roles',\n",
       " 554: 'killed',\n",
       " 555: 'heard',\n",
       " 556: 'age',\n",
       " 557: 'says',\n",
       " 558: 'god',\n",
       " 559: 'moment',\n",
       " 560: 'took',\n",
       " 561: 'leave',\n",
       " 562: 'writer',\n",
       " 563: 'strong',\n",
       " 564: 'cannot',\n",
       " 565: 'violence',\n",
       " 566: 'police',\n",
       " 567: 'hit',\n",
       " 568: 'stop',\n",
       " 569: 'happens',\n",
       " 570: 'particularly',\n",
       " 571: 'known',\n",
       " 572: 'happened',\n",
       " 573: 'involved',\n",
       " 574: 'extremely',\n",
       " 575: 'daughter',\n",
       " 576: 'obvious',\n",
       " 577: 'told',\n",
       " 578: 'chance',\n",
       " 579: 'living',\n",
       " 580: 'coming',\n",
       " 581: 'lack',\n",
       " 582: 'experience',\n",
       " 583: 'alone',\n",
       " 584: 'including',\n",
       " 585: \"wouldn't\",\n",
       " 586: 'murder',\n",
       " 587: 'attempt',\n",
       " 588: 's',\n",
       " 589: 'james',\n",
       " 590: 'please',\n",
       " 591: 'happen',\n",
       " 592: 'wonder',\n",
       " 593: 'crap',\n",
       " 594: 'ago',\n",
       " 595: \"film's\",\n",
       " 596: 'brother',\n",
       " 597: 'gore',\n",
       " 598: 'complete',\n",
       " 599: 'none',\n",
       " 600: 'interest',\n",
       " 601: 'score',\n",
       " 602: 'group',\n",
       " 603: 'cut',\n",
       " 604: 'simple',\n",
       " 605: 'save',\n",
       " 606: 'ok',\n",
       " 607: 'hell',\n",
       " 608: 'looked',\n",
       " 609: 'number',\n",
       " 610: 'career',\n",
       " 611: 'song',\n",
       " 612: 'possible',\n",
       " 613: 'seriously',\n",
       " 614: 'annoying',\n",
       " 615: 'shown',\n",
       " 616: 'exactly',\n",
       " 617: 'sad',\n",
       " 618: 'running',\n",
       " 619: 'musical',\n",
       " 620: 'serious',\n",
       " 621: 'yourself',\n",
       " 622: 'taken',\n",
       " 623: 'released',\n",
       " 624: 'whose',\n",
       " 625: 'david',\n",
       " 626: 'cinematography',\n",
       " 627: 'scary',\n",
       " 628: 'ends',\n",
       " 629: 'usually',\n",
       " 630: 'hero',\n",
       " 631: 'english',\n",
       " 632: 'hours',\n",
       " 633: 'reality',\n",
       " 634: 'opening',\n",
       " 635: \"i'll\",\n",
       " 636: 'today',\n",
       " 637: 'light',\n",
       " 638: 'across',\n",
       " 639: 'jokes',\n",
       " 640: 'hilarious',\n",
       " 641: 'somewhat',\n",
       " 642: 'usual',\n",
       " 643: 'ridiculous',\n",
       " 644: 'body',\n",
       " 645: 'cool',\n",
       " 646: 'started',\n",
       " 647: 'level',\n",
       " 648: 'view',\n",
       " 649: 'relationship',\n",
       " 650: 'change',\n",
       " 651: 'opinion',\n",
       " 652: 'happy',\n",
       " 653: 'middle',\n",
       " 654: 'taking',\n",
       " 655: 'wish',\n",
       " 656: 'finds',\n",
       " 657: 'husband',\n",
       " 658: 'order',\n",
       " 659: 'saying',\n",
       " 660: 'talking',\n",
       " 661: 'shots',\n",
       " 662: 'ones',\n",
       " 663: 'documentary',\n",
       " 664: 'huge',\n",
       " 665: 'novel',\n",
       " 666: 'mostly',\n",
       " 667: 'female',\n",
       " 668: 'robert',\n",
       " 669: 'power',\n",
       " 670: 'episodes',\n",
       " 671: 'room',\n",
       " 672: 'important',\n",
       " 673: 'rating',\n",
       " 674: 'talent',\n",
       " 675: 'five',\n",
       " 676: 'major',\n",
       " 677: 'turned',\n",
       " 678: 'strange',\n",
       " 679: 'word',\n",
       " 680: 'modern',\n",
       " 681: 'call',\n",
       " 682: 'apparently',\n",
       " 683: 'disappointed',\n",
       " 684: 'single',\n",
       " 685: 'events',\n",
       " 686: 'due',\n",
       " 687: 'four',\n",
       " 688: 'songs',\n",
       " 689: 'basically',\n",
       " 690: 'attention',\n",
       " 691: '7',\n",
       " 692: 'knows',\n",
       " 693: 'clearly',\n",
       " 694: 'supporting',\n",
       " 695: 'knew',\n",
       " 696: 'comic',\n",
       " 697: 'non',\n",
       " 698: 'british',\n",
       " 699: 'television',\n",
       " 700: 'fast',\n",
       " 701: 'earth',\n",
       " 702: 'country',\n",
       " 703: 'cheap',\n",
       " 704: 'class',\n",
       " 705: 'future',\n",
       " 706: 'silly',\n",
       " 707: 'thriller',\n",
       " 708: '8',\n",
       " 709: 'king',\n",
       " 710: 'problems',\n",
       " 711: \"aren't\",\n",
       " 712: 'easily',\n",
       " 713: 'words',\n",
       " 714: 'tells',\n",
       " 715: 'miss',\n",
       " 716: 'jack',\n",
       " 717: 'local',\n",
       " 718: 'sequence',\n",
       " 719: 'bring',\n",
       " 720: 'entertainment',\n",
       " 721: 'paul',\n",
       " 722: 'beyond',\n",
       " 723: 'upon',\n",
       " 724: 'whether',\n",
       " 725: 'predictable',\n",
       " 726: 'moving',\n",
       " 727: 'straight',\n",
       " 728: 'sets',\n",
       " 729: 'similar',\n",
       " 730: 'romantic',\n",
       " 731: 'review',\n",
       " 732: 'oscar',\n",
       " 733: 'falls',\n",
       " 734: 'mystery',\n",
       " 735: 'enjoyable',\n",
       " 736: 'needs',\n",
       " 737: 'rock',\n",
       " 738: 'appears',\n",
       " 739: 'talk',\n",
       " 740: 'george',\n",
       " 741: 'giving',\n",
       " 742: 'eye',\n",
       " 743: 'within',\n",
       " 744: 'richard',\n",
       " 745: 'ten',\n",
       " 746: 'animation',\n",
       " 747: 'message',\n",
       " 748: 'near',\n",
       " 749: 'theater',\n",
       " 750: 'above',\n",
       " 751: 'dull',\n",
       " 752: 'nearly',\n",
       " 753: 'sequel',\n",
       " 754: 'theme',\n",
       " 755: 'points',\n",
       " 756: \"'\",\n",
       " 757: 'stand',\n",
       " 758: 'mention',\n",
       " 759: 'lady',\n",
       " 760: 'bunch',\n",
       " 761: 'add',\n",
       " 762: 'feels',\n",
       " 763: 'herself',\n",
       " 764: 'release',\n",
       " 765: 'red',\n",
       " 766: 'team',\n",
       " 767: 'storyline',\n",
       " 768: 'surprised',\n",
       " 769: 'ways',\n",
       " 770: 'named',\n",
       " 771: 'using',\n",
       " 772: \"haven't\",\n",
       " 773: 'lots',\n",
       " 774: 'easy',\n",
       " 775: 'fantastic',\n",
       " 776: 'begins',\n",
       " 777: 'actual',\n",
       " 778: 'working',\n",
       " 779: 'effort',\n",
       " 780: 'york',\n",
       " 781: 'die',\n",
       " 782: 'hate',\n",
       " 783: 'french',\n",
       " 784: 'tale',\n",
       " 785: 'minute',\n",
       " 786: 'stay',\n",
       " 787: '9',\n",
       " 788: 'clear',\n",
       " 789: 'feature',\n",
       " 790: 'elements',\n",
       " 791: 'among',\n",
       " 792: 'follow',\n",
       " 793: 're',\n",
       " 794: 'comments',\n",
       " 795: 'viewers',\n",
       " 796: 'avoid',\n",
       " 797: 'sister',\n",
       " 798: 'typical',\n",
       " 799: 'showing',\n",
       " 800: 'editing',\n",
       " 801: \"what's\",\n",
       " 802: 'famous',\n",
       " 803: 'tried',\n",
       " 804: 'sorry',\n",
       " 805: 'fall',\n",
       " 806: 'dialog',\n",
       " 807: 'check',\n",
       " 808: 'period',\n",
       " 809: 'form',\n",
       " 810: 'season',\n",
       " 811: 'certain',\n",
       " 812: 'filmed',\n",
       " 813: 'weak',\n",
       " 814: 'soundtrack',\n",
       " 815: 'means',\n",
       " 816: 'material',\n",
       " 817: 'buy',\n",
       " 818: 'somehow',\n",
       " 819: 'realistic',\n",
       " 820: 'figure',\n",
       " 821: 'crime',\n",
       " 822: 'gone',\n",
       " 823: 'doubt',\n",
       " 824: 'peter',\n",
       " 825: 'tom',\n",
       " 826: 'kept',\n",
       " 827: 'viewing',\n",
       " 828: 't',\n",
       " 829: 'general',\n",
       " 830: 'leads',\n",
       " 831: 'greatest',\n",
       " 832: 'space',\n",
       " 833: 'lame',\n",
       " 834: 'suspense',\n",
       " 835: 'dance',\n",
       " 836: 'brought',\n",
       " 837: 'imagine',\n",
       " 838: 'third',\n",
       " 839: 'atmosphere',\n",
       " 840: 'hear',\n",
       " 841: 'particular',\n",
       " 842: 'sequences',\n",
       " 843: 'whatever',\n",
       " 844: 'parents',\n",
       " 845: 'move',\n",
       " 846: 'lee',\n",
       " 847: 'indeed',\n",
       " 848: 'rent',\n",
       " 849: 'de',\n",
       " 850: 'eventually',\n",
       " 851: 'learn',\n",
       " 852: 'note',\n",
       " 853: 'wait',\n",
       " 854: 'deal',\n",
       " 855: 'forget',\n",
       " 856: 'reviews',\n",
       " 857: 'average',\n",
       " 858: 'japanese',\n",
       " 859: 'sexual',\n",
       " 860: 'poorly',\n",
       " 861: 'okay',\n",
       " 862: 'premise',\n",
       " 863: 'zombie',\n",
       " 864: 'surprise',\n",
       " 865: 'believable',\n",
       " 866: 'stage',\n",
       " 867: 'sit',\n",
       " 868: 'possibly',\n",
       " 869: \"who's\",\n",
       " 870: 'decided',\n",
       " 871: 'expected',\n",
       " 872: \"you've\",\n",
       " 873: 'subject',\n",
       " 874: 'nature',\n",
       " 875: 'became',\n",
       " 876: 'difficult',\n",
       " 877: 'free',\n",
       " 878: 'killing',\n",
       " 879: 'screenplay',\n",
       " 880: 'truth',\n",
       " 881: 'romance',\n",
       " 882: 'dr',\n",
       " 883: 'nor',\n",
       " 884: 'reading',\n",
       " 885: 'needed',\n",
       " 886: 'question',\n",
       " 887: 'leaves',\n",
       " 888: 'street',\n",
       " 889: '20',\n",
       " 890: 'meets',\n",
       " 891: 'hot',\n",
       " 892: 'unless',\n",
       " 893: 'begin',\n",
       " 894: 'baby',\n",
       " 895: 'superb',\n",
       " 896: 'credits',\n",
       " 897: 'otherwise',\n",
       " 898: 'imdb',\n",
       " 899: 'write',\n",
       " 900: 'shame',\n",
       " 901: \"let's\",\n",
       " 902: 'situation',\n",
       " 903: 'dramatic',\n",
       " 904: 'memorable',\n",
       " 905: 'directors',\n",
       " 906: 'earlier',\n",
       " 907: 'badly',\n",
       " 908: 'disney',\n",
       " 909: 'meet',\n",
       " 910: 'open',\n",
       " 911: 'dog',\n",
       " 912: 'male',\n",
       " 913: 'weird',\n",
       " 914: 'joe',\n",
       " 915: 'acted',\n",
       " 916: 'forced',\n",
       " 917: 'emotional',\n",
       " 918: 'sci',\n",
       " 919: 'laughs',\n",
       " 920: 'older',\n",
       " 921: 'realize',\n",
       " 922: 'fi',\n",
       " 923: 'dream',\n",
       " 924: 'society',\n",
       " 925: 'interested',\n",
       " 926: 'writers',\n",
       " 927: 'comment',\n",
       " 928: 'forward',\n",
       " 929: 'footage',\n",
       " 930: 'crazy',\n",
       " 931: 'deep',\n",
       " 932: 'whom',\n",
       " 933: 'sounds',\n",
       " 934: 'beauty',\n",
       " 935: 'america',\n",
       " 936: 'plus',\n",
       " 937: 'fantasy',\n",
       " 938: 'directing',\n",
       " 939: 'keeps',\n",
       " 940: 'development',\n",
       " 941: 'ask',\n",
       " 942: 'features',\n",
       " 943: 'air',\n",
       " 944: 'quickly',\n",
       " 945: 'mess',\n",
       " 946: 'creepy',\n",
       " 947: 'perfectly',\n",
       " 948: 'towards',\n",
       " 949: 'mark',\n",
       " 950: 'worked',\n",
       " 951: 'box',\n",
       " 952: 'cheesy',\n",
       " 953: 'unique',\n",
       " 954: 'setting',\n",
       " 955: 'hands',\n",
       " 956: 'plenty',\n",
       " 957: 'brings',\n",
       " 958: 'previous',\n",
       " 959: 'result',\n",
       " 960: 'e',\n",
       " 961: 'effect',\n",
       " 962: 'total',\n",
       " 963: 'personal',\n",
       " 964: 'incredibly',\n",
       " 965: 'rate',\n",
       " 966: 'fire',\n",
       " 967: 'monster',\n",
       " 968: 'business',\n",
       " 969: 'leading',\n",
       " 970: 'apart',\n",
       " 971: 'casting',\n",
       " 972: 'admit',\n",
       " 973: 'appear',\n",
       " 974: 'joke',\n",
       " 975: 'background',\n",
       " 976: 'powerful',\n",
       " 977: 'telling',\n",
       " 978: 'meant',\n",
       " 979: 'girlfriend',\n",
       " 980: 'christmas',\n",
       " 981: 'present',\n",
       " 982: 'hardly',\n",
       " 983: 'potential',\n",
       " 984: 'battle',\n",
       " 985: 'create',\n",
       " 986: 'bill',\n",
       " 987: 'break',\n",
       " 988: 'pay',\n",
       " 989: 'masterpiece',\n",
       " 990: 'dumb',\n",
       " 991: 'return',\n",
       " 992: 'political',\n",
       " 993: 'gay',\n",
       " 994: 'fails',\n",
       " 995: 'fighting',\n",
       " 996: 'various',\n",
       " 997: 'era',\n",
       " 998: 'portrayed',\n",
       " 999: 'secret',\n",
       " 1000: 'cop',\n",
       " ...}"
      ]
     },
     "execution_count": 71,
     "metadata": {},
     "output_type": "execute_result"
    }
   ],
   "source": [
    "reverse_reverse_word_index"
   ]
  },
  {
   "cell_type": "code",
   "execution_count": 72,
   "id": "bb4698d2-9f2a-4d2f-84ec-e5cdab61f1c8",
   "metadata": {},
   "outputs": [
    {
     "data": {
      "text/plain": [
       "10000"
      ]
     },
     "execution_count": 72,
     "metadata": {},
     "output_type": "execute_result"
    }
   ],
   "source": [
    "vocab_size"
   ]
  },
  {
   "cell_type": "code",
   "execution_count": 73,
   "id": "153511bc-8181-4be6-80b1-94b794f098b9",
   "metadata": {},
   "outputs": [],
   "source": [
    "import io\n",
    "\n",
    "vectors_file=io.open(\"vectoprs.tsv\",\"w\", encoding=\"utf-8\")\n",
    "meta_file=io.open(\"meta.tsv\",\"w\",encoding=\"utf-8\")\n",
    "\n",
    "for index in range(1, vocab_size):\n",
    "    word=reverse_reverse_word_index[index]\n",
    "    embedding=weights[index]\n",
    "    meta_file.write(word+\"\\n\")\n",
    "    vectors_file.write(\"\\t\".join(str(x) for x in embedding)+\"\\n\")\n"
   ]
  },
  {
   "cell_type": "code",
   "execution_count": null,
   "id": "200a0ffe-0cd3-4c31-b26a-000caa5143cf",
   "metadata": {},
   "outputs": [],
   "source": [
    "# Upload this two file to Tensorflow Projector"
   ]
  },
  {
   "cell_type": "markdown",
   "id": "65769577-dda7-49f6-9d47-8a044bbeae45",
   "metadata": {},
   "source": [
    "Build NLP Classifier"
   ]
  },
  {
   "cell_type": "code",
   "execution_count": 74,
   "id": "4de222e8-6b09-4ea7-b2af-1ceb16dfafa4",
   "metadata": {},
   "outputs": [],
   "source": [
    "import numpy as np\n",
    "import pandas as d\n",
    "import tensorflow_datasets as tfds\n",
    "from tensorflow.keras.preprocessing.text import Tokenizer\n",
    "from tensorflow.keras.preprocessing.sequence import pad_sequences"
   ]
  },
  {
   "cell_type": "code",
   "execution_count": 75,
   "id": "5567aafa-5da8-4120-a310-0b8e6ac00286",
   "metadata": {},
   "outputs": [],
   "source": [
    "data=pd.read_json(\"./Sarcasm_Headlines_Dataset.json\",lines=True)"
   ]
  },
  {
   "cell_type": "code",
   "execution_count": 76,
   "id": "e831a5b6-64d5-4709-bd03-86617c6dc074",
   "metadata": {},
   "outputs": [
    {
     "data": {
      "text/html": [
       "<div>\n",
       "<style scoped>\n",
       "    .dataframe tbody tr th:only-of-type {\n",
       "        vertical-align: middle;\n",
       "    }\n",
       "\n",
       "    .dataframe tbody tr th {\n",
       "        vertical-align: top;\n",
       "    }\n",
       "\n",
       "    .dataframe thead th {\n",
       "        text-align: right;\n",
       "    }\n",
       "</style>\n",
       "<table border=\"1\" class=\"dataframe\">\n",
       "  <thead>\n",
       "    <tr style=\"text-align: right;\">\n",
       "      <th></th>\n",
       "      <th>article_link</th>\n",
       "      <th>headline</th>\n",
       "      <th>is_sarcastic</th>\n",
       "    </tr>\n",
       "  </thead>\n",
       "  <tbody>\n",
       "    <tr>\n",
       "      <th>0</th>\n",
       "      <td>https://www.huffingtonpost.com/entry/versace-b...</td>\n",
       "      <td>former versace store clerk sues over secret 'b...</td>\n",
       "      <td>0</td>\n",
       "    </tr>\n",
       "    <tr>\n",
       "      <th>1</th>\n",
       "      <td>https://www.huffingtonpost.com/entry/roseanne-...</td>\n",
       "      <td>the 'roseanne' revival catches up to our thorn...</td>\n",
       "      <td>0</td>\n",
       "    </tr>\n",
       "    <tr>\n",
       "      <th>2</th>\n",
       "      <td>https://local.theonion.com/mom-starting-to-fea...</td>\n",
       "      <td>mom starting to fear son's web series closest ...</td>\n",
       "      <td>1</td>\n",
       "    </tr>\n",
       "    <tr>\n",
       "      <th>3</th>\n",
       "      <td>https://politics.theonion.com/boehner-just-wan...</td>\n",
       "      <td>boehner just wants wife to listen, not come up...</td>\n",
       "      <td>1</td>\n",
       "    </tr>\n",
       "    <tr>\n",
       "      <th>4</th>\n",
       "      <td>https://www.huffingtonpost.com/entry/jk-rowlin...</td>\n",
       "      <td>j.k. rowling wishes snape happy birthday in th...</td>\n",
       "      <td>0</td>\n",
       "    </tr>\n",
       "  </tbody>\n",
       "</table>\n",
       "</div>"
      ],
      "text/plain": [
       "                                        article_link  \\\n",
       "0  https://www.huffingtonpost.com/entry/versace-b...   \n",
       "1  https://www.huffingtonpost.com/entry/roseanne-...   \n",
       "2  https://local.theonion.com/mom-starting-to-fea...   \n",
       "3  https://politics.theonion.com/boehner-just-wan...   \n",
       "4  https://www.huffingtonpost.com/entry/jk-rowlin...   \n",
       "\n",
       "                                            headline  is_sarcastic  \n",
       "0  former versace store clerk sues over secret 'b...             0  \n",
       "1  the 'roseanne' revival catches up to our thorn...             0  \n",
       "2  mom starting to fear son's web series closest ...             1  \n",
       "3  boehner just wants wife to listen, not come up...             1  \n",
       "4  j.k. rowling wishes snape happy birthday in th...             0  "
      ]
     },
     "execution_count": 76,
     "metadata": {},
     "output_type": "execute_result"
    }
   ],
   "source": [
    "data.head()"
   ]
  },
  {
   "cell_type": "code",
   "execution_count": null,
   "id": "e5f6d4e5-12ea-4124-8af0-8da25c96f382",
   "metadata": {},
   "outputs": [],
   "source": []
  }
 ],
 "metadata": {
  "kernelspec": {
   "display_name": "Python 3 (ipykernel)",
   "language": "python",
   "name": "python3"
  },
  "language_info": {
   "codemirror_mode": {
    "name": "ipython",
    "version": 3
   },
   "file_extension": ".py",
   "mimetype": "text/x-python",
   "name": "python",
   "nbconvert_exporter": "python",
   "pygments_lexer": "ipython3",
   "version": "3.12.4"
  }
 },
 "nbformat": 4,
 "nbformat_minor": 5
}
