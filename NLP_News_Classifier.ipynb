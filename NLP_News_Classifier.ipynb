{
 "cells": [
  {
   "cell_type": "markdown",
   "id": "8cc8a921-b2f0-46b7-9902-f5a7843cca27",
   "metadata": {},
   "source": [
    "import numpy as np\n",
    "import pandas as pd\n",
    "import tensorflow_datasets as tfds\n",
    "from tensorflow.keras.preprocessing.text import Tokenizer\n",
    "from tensorflow.keras.preprocessing.sequence import pad_sequences"
   ]
  },
  {
   "cell_type": "code",
   "execution_count": 4,
   "id": "e6d8a1da-c907-4221-81fc-57cbf36c2f66",
   "metadata": {},
   "outputs": [],
   "source": [
    "data=pd.read_json(\"./Sarcasm_Headlines_Dataset.json\",lines=True)"
   ]
  },
  {
   "cell_type": "code",
   "execution_count": 5,
   "id": "48aa1022-cebd-44dc-b30c-698dbba9e6e6",
   "metadata": {},
   "outputs": [
    {
     "data": {
      "text/html": [
       "<div>\n",
       "<style scoped>\n",
       "    .dataframe tbody tr th:only-of-type {\n",
       "        vertical-align: middle;\n",
       "    }\n",
       "\n",
       "    .dataframe tbody tr th {\n",
       "        vertical-align: top;\n",
       "    }\n",
       "\n",
       "    .dataframe thead th {\n",
       "        text-align: right;\n",
       "    }\n",
       "</style>\n",
       "<table border=\"1\" class=\"dataframe\">\n",
       "  <thead>\n",
       "    <tr style=\"text-align: right;\">\n",
       "      <th></th>\n",
       "      <th>article_link</th>\n",
       "      <th>headline</th>\n",
       "      <th>is_sarcastic</th>\n",
       "    </tr>\n",
       "  </thead>\n",
       "  <tbody>\n",
       "    <tr>\n",
       "      <th>0</th>\n",
       "      <td>https://www.huffingtonpost.com/entry/versace-b...</td>\n",
       "      <td>former versace store clerk sues over secret 'b...</td>\n",
       "      <td>0</td>\n",
       "    </tr>\n",
       "    <tr>\n",
       "      <th>1</th>\n",
       "      <td>https://www.huffingtonpost.com/entry/roseanne-...</td>\n",
       "      <td>the 'roseanne' revival catches up to our thorn...</td>\n",
       "      <td>0</td>\n",
       "    </tr>\n",
       "    <tr>\n",
       "      <th>2</th>\n",
       "      <td>https://local.theonion.com/mom-starting-to-fea...</td>\n",
       "      <td>mom starting to fear son's web series closest ...</td>\n",
       "      <td>1</td>\n",
       "    </tr>\n",
       "    <tr>\n",
       "      <th>3</th>\n",
       "      <td>https://politics.theonion.com/boehner-just-wan...</td>\n",
       "      <td>boehner just wants wife to listen, not come up...</td>\n",
       "      <td>1</td>\n",
       "    </tr>\n",
       "    <tr>\n",
       "      <th>4</th>\n",
       "      <td>https://www.huffingtonpost.com/entry/jk-rowlin...</td>\n",
       "      <td>j.k. rowling wishes snape happy birthday in th...</td>\n",
       "      <td>0</td>\n",
       "    </tr>\n",
       "  </tbody>\n",
       "</table>\n",
       "</div>"
      ],
      "text/plain": [
       "                                        article_link  \\\n",
       "0  https://www.huffingtonpost.com/entry/versace-b...   \n",
       "1  https://www.huffingtonpost.com/entry/roseanne-...   \n",
       "2  https://local.theonion.com/mom-starting-to-fea...   \n",
       "3  https://politics.theonion.com/boehner-just-wan...   \n",
       "4  https://www.huffingtonpost.com/entry/jk-rowlin...   \n",
       "\n",
       "                                            headline  is_sarcastic  \n",
       "0  former versace store clerk sues over secret 'b...             0  \n",
       "1  the 'roseanne' revival catches up to our thorn...             0  \n",
       "2  mom starting to fear son's web series closest ...             1  \n",
       "3  boehner just wants wife to listen, not come up...             1  \n",
       "4  j.k. rowling wishes snape happy birthday in th...             0  "
      ]
     },
     "execution_count": 5,
     "metadata": {},
     "output_type": "execute_result"
    }
   ],
   "source": [
    "data.head()"
   ]
  },
  {
   "cell_type": "markdown",
   "id": "0bf3f791-cef3-4e6c-867f-ac2a3304cbc3",
   "metadata": {},
   "source": [
    "data.shape"
   ]
  },
  {
   "cell_type": "code",
   "execution_count": 6,
   "id": "297a4e68-26e2-4d96-ba07-88721734bba6",
   "metadata": {},
   "outputs": [],
   "source": [
    "headlines=list(data[\"headline\"])\n",
    "labels=list(data[\"is_sarcastic\"])"
   ]
  },
  {
   "cell_type": "code",
   "execution_count": 8,
   "id": "1d8a41ab-9572-4e07-b58f-a47da60046fc",
   "metadata": {},
   "outputs": [],
   "source": [
    "vocab_size=10000\n",
    "max_length=120\n",
    "embedding_dim=16\n",
    "trunc_type=\"post\"\n",
    "padding_type=\"post\"\n",
    "oov_tok=\"<oov>\"\n",
    "training_size=20000"
   ]
  },
  {
   "cell_type": "code",
   "execution_count": 23,
   "id": "40e03717-4242-4916-8b20-d3ad4b7d96de",
   "metadata": {},
   "outputs": [],
   "source": [
    "training_sentences=headlines[:training_size]\n",
    "testing_sentence=headlines[training_size:]\n",
    "\n",
    "training_labels=labels[:training_size]\n",
    "testing_labels=labels[training_size:]"
   ]
  },
  {
   "cell_type": "markdown",
   "id": "cf81b7e3-7247-43a8-9e94-c53dfcc64597",
   "metadata": {},
   "source": [
    "Preprocess Sentences"
   ]
  },
  {
   "cell_type": "code",
   "execution_count": 25,
   "id": "8d9ada35-56aa-4663-baed-aeabfea5b943",
   "metadata": {},
   "outputs": [],
   "source": [
    "tokenizer=Tokenizer(num_words=vocab_size,oov_token=oov_tok)\n",
    "tokenizer.fit_on_texts(training_sentences)\n",
    "training_word_index=tokenizer.word_index\n",
    "\n",
    "training_sequence=tokenizer.texts_to_sequences(training_sentences)\n",
    "training_padded=pad_sequences(training_sequence,maxlen=max_length,truncating=trunc_type,padding=padding_type)\n",
    "\n",
    "testing_sequence=tokenizer.texts_to_sequences(testing_sentence)\n",
    "testing_padded=pad_sequences(testing_sequence,maxlen=max_length,truncating=trunc_type,padding=padding_type)"
   ]
  },
  {
   "cell_type": "code",
   "execution_count": 26,
   "id": "e6928f9c-8d6f-4c5a-8ce9-6eb9ae3805dd",
   "metadata": {},
   "outputs": [],
   "source": [
    "training_padded=np.array(training_padded)\n",
    "testing_padded=np.array(testing_padded)\n",
    "\n",
    "training_labels=np.array(training_labels)\n",
    "testing_labels=np.array(testing_labels)"
   ]
  },
  {
   "cell_type": "code",
   "execution_count": 28,
   "id": "69322087-e2c9-464d-8bf2-3e001e226603",
   "metadata": {},
   "outputs": [
    {
     "data": {
      "text/plain": [
       "((6709, 120), (20000, 120))"
      ]
     },
     "execution_count": 28,
     "metadata": {},
     "output_type": "execute_result"
    }
   ],
   "source": [
    "testing_padded.shape,training_padded.shape"
   ]
  },
  {
   "cell_type": "markdown",
   "id": "7e4f9515-c992-457d-a863-31b9029d0ed7",
   "metadata": {},
   "source": [
    "Define Neural Network Model"
   ]
  },
  {
   "cell_type": "code",
   "execution_count": 15,
   "id": "8b9a1a7d-b733-48b7-8ba8-3bb2eab00347",
   "metadata": {},
   "outputs": [],
   "source": [
    "import tensorflow as tf"
   ]
  },
  {
   "cell_type": "code",
   "execution_count": 34,
   "id": "177c10e5-f675-4f68-be2c-eb5e8a3bf65b",
   "metadata": {},
   "outputs": [
    {
     "name": "stderr",
     "output_type": "stream",
     "text": [
      "/opt/anaconda3/lib/python3.12/site-packages/keras/src/layers/core/embedding.py:90: UserWarning: Argument `input_length` is deprecated. Just remove it.\n",
      "  warnings.warn(\n"
     ]
    }
   ],
   "source": [
    "model=tf.keras.Sequential([\n",
    "    tf.keras.layers.Embedding(vocab_size,embedding_dim,input_length=max_length),\n",
    "    tf.keras.layers.GlobalAveragePooling1D(),\n",
    "    tf.keras.layers.Dense(24,activation=\"relu\"),\n",
    "    tf.keras.layers.Dense(1,activation=\"sigmoid\")\n",
    "])"
   ]
  },
  {
   "cell_type": "code",
   "execution_count": 35,
   "id": "6621309c-a45c-45f2-869a-15531781a4e6",
   "metadata": {},
   "outputs": [],
   "source": [
    "model.compile(loss=\"binary_crossentropy\",optimizer=\"adam\",metrics=[\"accuracy\"])"
   ]
  },
  {
   "cell_type": "code",
   "execution_count": 36,
   "id": "629dcd61-5a74-44fc-af1e-c09959bcb1ba",
   "metadata": {},
   "outputs": [
    {
     "data": {
      "text/html": [
       "<pre style=\"white-space:pre;overflow-x:auto;line-height:normal;font-family:Menlo,'DejaVu Sans Mono',consolas,'Courier New',monospace\"><span style=\"font-weight: bold\">Model: \"sequential_1\"</span>\n",
       "</pre>\n"
      ],
      "text/plain": [
       "\u001b[1mModel: \"sequential_1\"\u001b[0m\n"
      ]
     },
     "metadata": {},
     "output_type": "display_data"
    },
    {
     "data": {
      "text/html": [
       "<pre style=\"white-space:pre;overflow-x:auto;line-height:normal;font-family:Menlo,'DejaVu Sans Mono',consolas,'Courier New',monospace\">┏━━━━━━━━━━━━━━━━━━━━━━━━━━━━━━━━━┳━━━━━━━━━━━━━━━━━━━━━━━━┳━━━━━━━━━━━━━━━┓\n",
       "┃<span style=\"font-weight: bold\"> Layer (type)                    </span>┃<span style=\"font-weight: bold\"> Output Shape           </span>┃<span style=\"font-weight: bold\">       Param # </span>┃\n",
       "┡━━━━━━━━━━━━━━━━━━━━━━━━━━━━━━━━━╇━━━━━━━━━━━━━━━━━━━━━━━━╇━━━━━━━━━━━━━━━┩\n",
       "│ embedding_1 (<span style=\"color: #0087ff; text-decoration-color: #0087ff\">Embedding</span>)         │ ?                      │   <span style=\"color: #00af00; text-decoration-color: #00af00\">0</span> (unbuilt) │\n",
       "├─────────────────────────────────┼────────────────────────┼───────────────┤\n",
       "│ global_average_pooling1d_1      │ ?                      │   <span style=\"color: #00af00; text-decoration-color: #00af00\">0</span> (unbuilt) │\n",
       "│ (<span style=\"color: #0087ff; text-decoration-color: #0087ff\">GlobalAveragePooling1D</span>)        │                        │               │\n",
       "├─────────────────────────────────┼────────────────────────┼───────────────┤\n",
       "│ dense_2 (<span style=\"color: #0087ff; text-decoration-color: #0087ff\">Dense</span>)                 │ ?                      │   <span style=\"color: #00af00; text-decoration-color: #00af00\">0</span> (unbuilt) │\n",
       "├─────────────────────────────────┼────────────────────────┼───────────────┤\n",
       "│ dense_3 (<span style=\"color: #0087ff; text-decoration-color: #0087ff\">Dense</span>)                 │ ?                      │   <span style=\"color: #00af00; text-decoration-color: #00af00\">0</span> (unbuilt) │\n",
       "└─────────────────────────────────┴────────────────────────┴───────────────┘\n",
       "</pre>\n"
      ],
      "text/plain": [
       "┏━━━━━━━━━━━━━━━━━━━━━━━━━━━━━━━━━┳━━━━━━━━━━━━━━━━━━━━━━━━┳━━━━━━━━━━━━━━━┓\n",
       "┃\u001b[1m \u001b[0m\u001b[1mLayer (type)                   \u001b[0m\u001b[1m \u001b[0m┃\u001b[1m \u001b[0m\u001b[1mOutput Shape          \u001b[0m\u001b[1m \u001b[0m┃\u001b[1m \u001b[0m\u001b[1m      Param #\u001b[0m\u001b[1m \u001b[0m┃\n",
       "┡━━━━━━━━━━━━━━━━━━━━━━━━━━━━━━━━━╇━━━━━━━━━━━━━━━━━━━━━━━━╇━━━━━━━━━━━━━━━┩\n",
       "│ embedding_1 (\u001b[38;5;33mEmbedding\u001b[0m)         │ ?                      │   \u001b[38;5;34m0\u001b[0m (unbuilt) │\n",
       "├─────────────────────────────────┼────────────────────────┼───────────────┤\n",
       "│ global_average_pooling1d_1      │ ?                      │   \u001b[38;5;34m0\u001b[0m (unbuilt) │\n",
       "│ (\u001b[38;5;33mGlobalAveragePooling1D\u001b[0m)        │                        │               │\n",
       "├─────────────────────────────────┼────────────────────────┼───────────────┤\n",
       "│ dense_2 (\u001b[38;5;33mDense\u001b[0m)                 │ ?                      │   \u001b[38;5;34m0\u001b[0m (unbuilt) │\n",
       "├─────────────────────────────────┼────────────────────────┼───────────────┤\n",
       "│ dense_3 (\u001b[38;5;33mDense\u001b[0m)                 │ ?                      │   \u001b[38;5;34m0\u001b[0m (unbuilt) │\n",
       "└─────────────────────────────────┴────────────────────────┴───────────────┘\n"
      ]
     },
     "metadata": {},
     "output_type": "display_data"
    },
    {
     "data": {
      "text/html": [
       "<pre style=\"white-space:pre;overflow-x:auto;line-height:normal;font-family:Menlo,'DejaVu Sans Mono',consolas,'Courier New',monospace\"><span style=\"font-weight: bold\"> Total params: </span><span style=\"color: #00af00; text-decoration-color: #00af00\">0</span> (0.00 B)\n",
       "</pre>\n"
      ],
      "text/plain": [
       "\u001b[1m Total params: \u001b[0m\u001b[38;5;34m0\u001b[0m (0.00 B)\n"
      ]
     },
     "metadata": {},
     "output_type": "display_data"
    },
    {
     "data": {
      "text/html": [
       "<pre style=\"white-space:pre;overflow-x:auto;line-height:normal;font-family:Menlo,'DejaVu Sans Mono',consolas,'Courier New',monospace\"><span style=\"font-weight: bold\"> Trainable params: </span><span style=\"color: #00af00; text-decoration-color: #00af00\">0</span> (0.00 B)\n",
       "</pre>\n"
      ],
      "text/plain": [
       "\u001b[1m Trainable params: \u001b[0m\u001b[38;5;34m0\u001b[0m (0.00 B)\n"
      ]
     },
     "metadata": {},
     "output_type": "display_data"
    },
    {
     "data": {
      "text/html": [
       "<pre style=\"white-space:pre;overflow-x:auto;line-height:normal;font-family:Menlo,'DejaVu Sans Mono',consolas,'Courier New',monospace\"><span style=\"font-weight: bold\"> Non-trainable params: </span><span style=\"color: #00af00; text-decoration-color: #00af00\">0</span> (0.00 B)\n",
       "</pre>\n"
      ],
      "text/plain": [
       "\u001b[1m Non-trainable params: \u001b[0m\u001b[38;5;34m0\u001b[0m (0.00 B)\n"
      ]
     },
     "metadata": {},
     "output_type": "display_data"
    }
   ],
   "source": [
    "model.summary()"
   ]
  },
  {
   "cell_type": "code",
   "execution_count": 37,
   "id": "da35c363-e1dc-4f49-a3fc-9f4032fa7bc8",
   "metadata": {},
   "outputs": [
    {
     "name": "stdout",
     "output_type": "stream",
     "text": [
      "Epoch 1/30\n",
      "625/625 - 1s - 2ms/step - accuracy: 0.5648 - loss: 0.6786 - val_accuracy: 0.7041 - val_loss: 0.6603\n",
      "Epoch 2/30\n",
      "625/625 - 1s - 971us/step - accuracy: 0.7374 - loss: 0.5458 - val_accuracy: 0.7880 - val_loss: 0.4707\n",
      "Epoch 3/30\n",
      "625/625 - 1s - 971us/step - accuracy: 0.8135 - loss: 0.4176 - val_accuracy: 0.8015 - val_loss: 0.4226\n",
      "Epoch 4/30\n",
      "625/625 - 1s - 974us/step - accuracy: 0.8457 - loss: 0.3617 - val_accuracy: 0.8346 - val_loss: 0.3840\n",
      "Epoch 5/30\n",
      "625/625 - 1s - 967us/step - accuracy: 0.8558 - loss: 0.3339 - val_accuracy: 0.8097 - val_loss: 0.4035\n",
      "Epoch 6/30\n",
      "625/625 - 1s - 971us/step - accuracy: 0.8739 - loss: 0.3017 - val_accuracy: 0.8095 - val_loss: 0.4092\n",
      "Epoch 7/30\n",
      "625/625 - 1s - 963us/step - accuracy: 0.8874 - loss: 0.2778 - val_accuracy: 0.8125 - val_loss: 0.4046\n",
      "Epoch 8/30\n",
      "625/625 - 1s - 956us/step - accuracy: 0.8913 - loss: 0.2642 - val_accuracy: 0.8128 - val_loss: 0.4087\n",
      "Epoch 9/30\n",
      "625/625 - 1s - 965us/step - accuracy: 0.9010 - loss: 0.2430 - val_accuracy: 0.7946 - val_loss: 0.4591\n",
      "Epoch 10/30\n",
      "625/625 - 1s - 966us/step - accuracy: 0.9042 - loss: 0.2340 - val_accuracy: 0.8167 - val_loss: 0.4308\n",
      "Epoch 11/30\n",
      "625/625 - 1s - 977us/step - accuracy: 0.9127 - loss: 0.2178 - val_accuracy: 0.8323 - val_loss: 0.3886\n",
      "Epoch 12/30\n",
      "625/625 - 1s - 970us/step - accuracy: 0.9145 - loss: 0.2109 - val_accuracy: 0.8214 - val_loss: 0.4299\n",
      "Epoch 13/30\n",
      "625/625 - 1s - 971us/step - accuracy: 0.9187 - loss: 0.2010 - val_accuracy: 0.8448 - val_loss: 0.3816\n",
      "Epoch 14/30\n",
      "625/625 - 1s - 978us/step - accuracy: 0.9228 - loss: 0.1960 - val_accuracy: 0.8347 - val_loss: 0.3985\n",
      "Epoch 15/30\n",
      "625/625 - 1s - 970us/step - accuracy: 0.9275 - loss: 0.1812 - val_accuracy: 0.8498 - val_loss: 0.3705\n",
      "Epoch 16/30\n",
      "625/625 - 1s - 966us/step - accuracy: 0.9333 - loss: 0.1743 - val_accuracy: 0.8530 - val_loss: 0.3726\n",
      "Epoch 17/30\n",
      "625/625 - 1s - 963us/step - accuracy: 0.9294 - loss: 0.1788 - val_accuracy: 0.8459 - val_loss: 0.3911\n",
      "Epoch 18/30\n",
      "625/625 - 1s - 972us/step - accuracy: 0.9390 - loss: 0.1585 - val_accuracy: 0.8539 - val_loss: 0.3839\n",
      "Epoch 19/30\n",
      "625/625 - 1s - 964us/step - accuracy: 0.9331 - loss: 0.1654 - val_accuracy: 0.8495 - val_loss: 0.3993\n",
      "Epoch 20/30\n",
      "625/625 - 1s - 961us/step - accuracy: 0.9388 - loss: 0.1560 - val_accuracy: 0.8517 - val_loss: 0.3987\n",
      "Epoch 21/30\n",
      "625/625 - 1s - 972us/step - accuracy: 0.9380 - loss: 0.1557 - val_accuracy: 0.8454 - val_loss: 0.4149\n",
      "Epoch 22/30\n",
      "625/625 - 1s - 971us/step - accuracy: 0.9465 - loss: 0.1369 - val_accuracy: 0.8478 - val_loss: 0.4213\n",
      "Epoch 23/30\n",
      "625/625 - 1s - 976us/step - accuracy: 0.9405 - loss: 0.1486 - val_accuracy: 0.8499 - val_loss: 0.4217\n",
      "Epoch 24/30\n",
      "625/625 - 1s - 970us/step - accuracy: 0.9483 - loss: 0.1352 - val_accuracy: 0.8337 - val_loss: 0.4704\n",
      "Epoch 25/30\n",
      "625/625 - 1s - 968us/step - accuracy: 0.9474 - loss: 0.1326 - val_accuracy: 0.8480 - val_loss: 0.4390\n",
      "Epoch 26/30\n",
      "625/625 - 1s - 971us/step - accuracy: 0.9466 - loss: 0.1308 - val_accuracy: 0.8417 - val_loss: 0.4628\n",
      "Epoch 27/30\n",
      "625/625 - 1s - 969us/step - accuracy: 0.9531 - loss: 0.1188 - val_accuracy: 0.8319 - val_loss: 0.5007\n",
      "Epoch 28/30\n",
      "625/625 - 1s - 957us/step - accuracy: 0.9503 - loss: 0.1231 - val_accuracy: 0.8316 - val_loss: 0.5134\n",
      "Epoch 29/30\n",
      "625/625 - 1s - 1ms/step - accuracy: 0.9554 - loss: 0.1145 - val_accuracy: 0.8204 - val_loss: 0.5953\n",
      "Epoch 30/30\n",
      "625/625 - 1s - 984us/step - accuracy: 0.9560 - loss: 0.1147 - val_accuracy: 0.7925 - val_loss: 0.7662\n"
     ]
    }
   ],
   "source": [
    "num_epoch=30\n",
    "history=model.fit(training_padded,training_labels,\n",
    "                 epochs=num_epoch,\n",
    "                 validation_data=(testing_padded,testing_labels),\n",
    "                 verbose=2)"
   ]
  },
  {
   "cell_type": "markdown",
   "id": "c2b24881-9d8f-43a5-91d1-c97e6aabe6df",
   "metadata": {},
   "source": [
    "visualization of Train & Validation Accuracy"
   ]
  },
  {
   "cell_type": "code",
   "execution_count": 38,
   "id": "0f878a60-baec-4c90-a50e-c63449a93f93",
   "metadata": {},
   "outputs": [
    {
     "data": {
      "image/png": "[encoded data removed]",
      "text/plain": [
       "<Figure size 640x480 with 1 Axes>"
      ]
     },
     "metadata": {},
     "output_type": "display_data"
    },
    {
     "data": {
      "image/png": "[encoded data removed]",
      "text/plain": [
       "<Figure size 640x480 with 1 Axes>"
      ]
     },
     "metadata": {},
     "output_type": "display_data"
    }
   ],
   "source": [
    "import matplotlib.pyplot as plt\n",
    "\n",
    "##plot the scores from history\n",
    "def plot_graphs(history, string):\n",
    "  plt.plot(history.history[string])\n",
    "  plt.plot(history.history['val_'+string])\n",
    "  plt.legend([string, 'val_'+string])\n",
    "  plt.xlabel(\"Epochs\")\n",
    "  plt.ylabel(string)\n",
    "  plt.show()\n",
    "  \n",
    "plot_graphs(history, \"accuracy\")\n",
    "plot_graphs(history, \"loss\")"
   ]
  },
  {
   "cell_type": "markdown",
   "id": "493f72e3-eb03-4988-add3-7cd4b30bb637",
   "metadata": {},
   "source": [
    "Classifing New Sentence"
   ]
  },
  {
   "cell_type": "code",
   "execution_count": 39,
   "id": "8fd235f5-4a27-4273-b06e-a8dbf496d605",
   "metadata": {},
   "outputs": [
    {
     "name": "stdout",
     "output_type": "stream",
     "text": [
      "\u001b[1m1/1\u001b[0m \u001b[32m━━━━━━━━━━━━━━━━━━━━\u001b[0m\u001b[37m\u001b[0m \u001b[1m0s\u001b[0m 19ms/step\n",
      "[[9.8564953e-05]\n",
      " [1.2721325e-03]]\n"
     ]
    }
   ],
   "source": [
    "sentence = [\"the baby boy fears spiders in the garden might be real\", \"game of thrones season finale showing this sunday night\"]\n",
    "\n",
    "##prepare the sequences of the sentences in question\n",
    "sequences = tokenizer.texts_to_sequences(sentence)\n",
    "padded_seqs = pad_sequences(sequences, maxlen=max_length, padding=padding_type, truncating=trunc_type)\n",
    "\n",
    "print(model.predict(padded_seqs))"
   ]
  },
  {
   "cell_type": "code",
   "execution_count": null,
   "id": "fb5266ac-f1ab-48c9-8dd9-b5cdaf9d0c7f",
   "metadata": {},
   "outputs": [],
   "source": []
  }
 ],
 "metadata": {
  "kernelspec": {
   "display_name": "Python 3 (ipykernel)",
   "language": "python",
   "name": "python3"
  },
  "language_info": {
   "codemirror_mode": {
    "name": "ipython",
    "version": 3
   },
   "file_extension": ".py",
   "mimetype": "text/x-python",
   "name": "python",
   "nbconvert_exporter": "python",
   "pygments_lexer": "ipython3",
   "version": "3.12.4"
  }
 },
 "nbformat": 4,
 "nbformat_minor": 5
}
